{
  "nbformat": 4,
  "nbformat_minor": 0,
  "metadata": {
    "kernelspec": {
      "display_name": "Python 3",
      "language": "python",
      "name": "python3"
    },
    "language_info": {
      "codemirror_mode": {
        "name": "ipython",
        "version": 3
      },
      "file_extension": ".py",
      "mimetype": "text/x-python",
      "name": "python",
      "nbconvert_exporter": "python",
      "pygments_lexer": "ipython3",
      "version": "3.4.3"
    },
    "colab": {
      "name": "Copy of week1-MultilabelClassification.ipynb",
      "provenance": []
    },
    "accelerator": "GPU",
    "widgets": {
      "application/vnd.jupyter.widget-state+json": {
        "8478279fb4dd4ab68db780f37eddb8e3": {
          "model_module": "@jupyter-widgets/controls",
          "model_name": "HBoxModel",
          "state": {
            "_view_name": "HBoxView",
            "_dom_classes": [],
            "_model_name": "HBoxModel",
            "_view_module": "@jupyter-widgets/controls",
            "_model_module_version": "1.5.0",
            "_view_count": null,
            "_view_module_version": "1.5.0",
            "box_style": "",
            "layout": "IPY_MODEL_e7240078564947eda593731f050ab1cc",
            "_model_module": "@jupyter-widgets/controls",
            "children": [
              "IPY_MODEL_998ceb10c31e4abca3a185b169f6768f",
              "IPY_MODEL_e28c768df34649acafb05a3b1e755ee1"
            ]
          }
        },
        "e7240078564947eda593731f050ab1cc": {
          "model_module": "@jupyter-widgets/base",
          "model_name": "LayoutModel",
          "state": {
            "_view_name": "LayoutView",
            "grid_template_rows": null,
            "right": null,
            "justify_content": null,
            "_view_module": "@jupyter-widgets/base",
            "overflow": null,
            "_model_module_version": "1.2.0",
            "_view_count": null,
            "flex_flow": null,
            "width": null,
            "min_width": null,
            "border": null,
            "align_items": null,
            "bottom": null,
            "_model_module": "@jupyter-widgets/base",
            "top": null,
            "grid_column": null,
            "overflow_y": null,
            "overflow_x": null,
            "grid_auto_flow": null,
            "grid_area": null,
            "grid_template_columns": null,
            "flex": null,
            "_model_name": "LayoutModel",
            "justify_items": null,
            "grid_row": null,
            "max_height": null,
            "align_content": null,
            "visibility": null,
            "align_self": null,
            "height": null,
            "min_height": null,
            "padding": null,
            "grid_auto_rows": null,
            "grid_gap": null,
            "max_width": null,
            "order": null,
            "_view_module_version": "1.2.0",
            "grid_template_areas": null,
            "object_position": null,
            "object_fit": null,
            "grid_auto_columns": null,
            "margin": null,
            "display": null,
            "left": null
          }
        },
        "998ceb10c31e4abca3a185b169f6768f": {
          "model_module": "@jupyter-widgets/controls",
          "model_name": "FloatProgressModel",
          "state": {
            "_view_name": "ProgressView",
            "style": "IPY_MODEL_2b96cd4f91a145ed9b86b17fe7942cc9",
            "_dom_classes": [],
            "description": "train.tsv: 100%",
            "_model_name": "FloatProgressModel",
            "bar_style": "success",
            "max": 7196138,
            "_view_module": "@jupyter-widgets/controls",
            "_model_module_version": "1.5.0",
            "value": 7196138,
            "_view_count": null,
            "_view_module_version": "1.5.0",
            "orientation": "horizontal",
            "min": 0,
            "description_tooltip": null,
            "_model_module": "@jupyter-widgets/controls",
            "layout": "IPY_MODEL_b03178b87c1a46f8a1f4a46be355007e"
          }
        },
        "e28c768df34649acafb05a3b1e755ee1": {
          "model_module": "@jupyter-widgets/controls",
          "model_name": "HTMLModel",
          "state": {
            "_view_name": "HTMLView",
            "style": "IPY_MODEL_519eed1f49404e519a08e2a69b67e95a",
            "_dom_classes": [],
            "description": "",
            "_model_name": "HTMLModel",
            "placeholder": "​",
            "_view_module": "@jupyter-widgets/controls",
            "_model_module_version": "1.5.0",
            "value": " 7.20M/7.20M [00:02&lt;00:00, 3.59MB/s]",
            "_view_count": null,
            "_view_module_version": "1.5.0",
            "description_tooltip": null,
            "_model_module": "@jupyter-widgets/controls",
            "layout": "IPY_MODEL_98e20133368047c4a6005400e50a7167"
          }
        },
        "2b96cd4f91a145ed9b86b17fe7942cc9": {
          "model_module": "@jupyter-widgets/controls",
          "model_name": "ProgressStyleModel",
          "state": {
            "_view_name": "StyleView",
            "_model_name": "ProgressStyleModel",
            "description_width": "initial",
            "_view_module": "@jupyter-widgets/base",
            "_model_module_version": "1.5.0",
            "_view_count": null,
            "_view_module_version": "1.2.0",
            "bar_color": null,
            "_model_module": "@jupyter-widgets/controls"
          }
        },
        "b03178b87c1a46f8a1f4a46be355007e": {
          "model_module": "@jupyter-widgets/base",
          "model_name": "LayoutModel",
          "state": {
            "_view_name": "LayoutView",
            "grid_template_rows": null,
            "right": null,
            "justify_content": null,
            "_view_module": "@jupyter-widgets/base",
            "overflow": null,
            "_model_module_version": "1.2.0",
            "_view_count": null,
            "flex_flow": null,
            "width": null,
            "min_width": null,
            "border": null,
            "align_items": null,
            "bottom": null,
            "_model_module": "@jupyter-widgets/base",
            "top": null,
            "grid_column": null,
            "overflow_y": null,
            "overflow_x": null,
            "grid_auto_flow": null,
            "grid_area": null,
            "grid_template_columns": null,
            "flex": null,
            "_model_name": "LayoutModel",
            "justify_items": null,
            "grid_row": null,
            "max_height": null,
            "align_content": null,
            "visibility": null,
            "align_self": null,
            "height": null,
            "min_height": null,
            "padding": null,
            "grid_auto_rows": null,
            "grid_gap": null,
            "max_width": null,
            "order": null,
            "_view_module_version": "1.2.0",
            "grid_template_areas": null,
            "object_position": null,
            "object_fit": null,
            "grid_auto_columns": null,
            "margin": null,
            "display": null,
            "left": null
          }
        },
        "519eed1f49404e519a08e2a69b67e95a": {
          "model_module": "@jupyter-widgets/controls",
          "model_name": "DescriptionStyleModel",
          "state": {
            "_view_name": "StyleView",
            "_model_name": "DescriptionStyleModel",
            "description_width": "",
            "_view_module": "@jupyter-widgets/base",
            "_model_module_version": "1.5.0",
            "_view_count": null,
            "_view_module_version": "1.2.0",
            "_model_module": "@jupyter-widgets/controls"
          }
        },
        "98e20133368047c4a6005400e50a7167": {
          "model_module": "@jupyter-widgets/base",
          "model_name": "LayoutModel",
          "state": {
            "_view_name": "LayoutView",
            "grid_template_rows": null,
            "right": null,
            "justify_content": null,
            "_view_module": "@jupyter-widgets/base",
            "overflow": null,
            "_model_module_version": "1.2.0",
            "_view_count": null,
            "flex_flow": null,
            "width": null,
            "min_width": null,
            "border": null,
            "align_items": null,
            "bottom": null,
            "_model_module": "@jupyter-widgets/base",
            "top": null,
            "grid_column": null,
            "overflow_y": null,
            "overflow_x": null,
            "grid_auto_flow": null,
            "grid_area": null,
            "grid_template_columns": null,
            "flex": null,
            "_model_name": "LayoutModel",
            "justify_items": null,
            "grid_row": null,
            "max_height": null,
            "align_content": null,
            "visibility": null,
            "align_self": null,
            "height": null,
            "min_height": null,
            "padding": null,
            "grid_auto_rows": null,
            "grid_gap": null,
            "max_width": null,
            "order": null,
            "_view_module_version": "1.2.0",
            "grid_template_areas": null,
            "object_position": null,
            "object_fit": null,
            "grid_auto_columns": null,
            "margin": null,
            "display": null,
            "left": null
          }
        },
        "23623cf3de60474d88b7aa077c95f798": {
          "model_module": "@jupyter-widgets/controls",
          "model_name": "HBoxModel",
          "state": {
            "_view_name": "HBoxView",
            "_dom_classes": [],
            "_model_name": "HBoxModel",
            "_view_module": "@jupyter-widgets/controls",
            "_model_module_version": "1.5.0",
            "_view_count": null,
            "_view_module_version": "1.5.0",
            "box_style": "",
            "layout": "IPY_MODEL_4c2546d9e025466f8d20bf377f8da9da",
            "_model_module": "@jupyter-widgets/controls",
            "children": [
              "IPY_MODEL_17eea70f162a4426a31f9f4188132ffe",
              "IPY_MODEL_792ece5cd83e4b93bb58986d142eda86"
            ]
          }
        },
        "4c2546d9e025466f8d20bf377f8da9da": {
          "model_module": "@jupyter-widgets/base",
          "model_name": "LayoutModel",
          "state": {
            "_view_name": "LayoutView",
            "grid_template_rows": null,
            "right": null,
            "justify_content": null,
            "_view_module": "@jupyter-widgets/base",
            "overflow": null,
            "_model_module_version": "1.2.0",
            "_view_count": null,
            "flex_flow": null,
            "width": null,
            "min_width": null,
            "border": null,
            "align_items": null,
            "bottom": null,
            "_model_module": "@jupyter-widgets/base",
            "top": null,
            "grid_column": null,
            "overflow_y": null,
            "overflow_x": null,
            "grid_auto_flow": null,
            "grid_area": null,
            "grid_template_columns": null,
            "flex": null,
            "_model_name": "LayoutModel",
            "justify_items": null,
            "grid_row": null,
            "max_height": null,
            "align_content": null,
            "visibility": null,
            "align_self": null,
            "height": null,
            "min_height": null,
            "padding": null,
            "grid_auto_rows": null,
            "grid_gap": null,
            "max_width": null,
            "order": null,
            "_view_module_version": "1.2.0",
            "grid_template_areas": null,
            "object_position": null,
            "object_fit": null,
            "grid_auto_columns": null,
            "margin": null,
            "display": null,
            "left": null
          }
        },
        "17eea70f162a4426a31f9f4188132ffe": {
          "model_module": "@jupyter-widgets/controls",
          "model_name": "FloatProgressModel",
          "state": {
            "_view_name": "ProgressView",
            "style": "IPY_MODEL_69a402e9e0c242278352bb0232938729",
            "_dom_classes": [],
            "description": "validation.tsv: 100%",
            "_model_name": "FloatProgressModel",
            "bar_style": "success",
            "max": 2166270,
            "_view_module": "@jupyter-widgets/controls",
            "_model_module_version": "1.5.0",
            "value": 2166270,
            "_view_count": null,
            "_view_module_version": "1.5.0",
            "orientation": "horizontal",
            "min": 0,
            "description_tooltip": null,
            "_model_module": "@jupyter-widgets/controls",
            "layout": "IPY_MODEL_a1d54423a05847b4ad77082d8bd1a02d"
          }
        },
        "792ece5cd83e4b93bb58986d142eda86": {
          "model_module": "@jupyter-widgets/controls",
          "model_name": "HTMLModel",
          "state": {
            "_view_name": "HTMLView",
            "style": "IPY_MODEL_d0394ed8feea4c4d95762ff500ace375",
            "_dom_classes": [],
            "description": "",
            "_model_name": "HTMLModel",
            "placeholder": "​",
            "_view_module": "@jupyter-widgets/controls",
            "_model_module_version": "1.5.0",
            "value": " 2.17M/2.17M [00:01&lt;00:00, 1.63MB/s]",
            "_view_count": null,
            "_view_module_version": "1.5.0",
            "description_tooltip": null,
            "_model_module": "@jupyter-widgets/controls",
            "layout": "IPY_MODEL_a5258f1020284fb39fd074699dd72a3c"
          }
        },
        "69a402e9e0c242278352bb0232938729": {
          "model_module": "@jupyter-widgets/controls",
          "model_name": "ProgressStyleModel",
          "state": {
            "_view_name": "StyleView",
            "_model_name": "ProgressStyleModel",
            "description_width": "initial",
            "_view_module": "@jupyter-widgets/base",
            "_model_module_version": "1.5.0",
            "_view_count": null,
            "_view_module_version": "1.2.0",
            "bar_color": null,
            "_model_module": "@jupyter-widgets/controls"
          }
        },
        "a1d54423a05847b4ad77082d8bd1a02d": {
          "model_module": "@jupyter-widgets/base",
          "model_name": "LayoutModel",
          "state": {
            "_view_name": "LayoutView",
            "grid_template_rows": null,
            "right": null,
            "justify_content": null,
            "_view_module": "@jupyter-widgets/base",
            "overflow": null,
            "_model_module_version": "1.2.0",
            "_view_count": null,
            "flex_flow": null,
            "width": null,
            "min_width": null,
            "border": null,
            "align_items": null,
            "bottom": null,
            "_model_module": "@jupyter-widgets/base",
            "top": null,
            "grid_column": null,
            "overflow_y": null,
            "overflow_x": null,
            "grid_auto_flow": null,
            "grid_area": null,
            "grid_template_columns": null,
            "flex": null,
            "_model_name": "LayoutModel",
            "justify_items": null,
            "grid_row": null,
            "max_height": null,
            "align_content": null,
            "visibility": null,
            "align_self": null,
            "height": null,
            "min_height": null,
            "padding": null,
            "grid_auto_rows": null,
            "grid_gap": null,
            "max_width": null,
            "order": null,
            "_view_module_version": "1.2.0",
            "grid_template_areas": null,
            "object_position": null,
            "object_fit": null,
            "grid_auto_columns": null,
            "margin": null,
            "display": null,
            "left": null
          }
        },
        "d0394ed8feea4c4d95762ff500ace375": {
          "model_module": "@jupyter-widgets/controls",
          "model_name": "DescriptionStyleModel",
          "state": {
            "_view_name": "StyleView",
            "_model_name": "DescriptionStyleModel",
            "description_width": "",
            "_view_module": "@jupyter-widgets/base",
            "_model_module_version": "1.5.0",
            "_view_count": null,
            "_view_module_version": "1.2.0",
            "_model_module": "@jupyter-widgets/controls"
          }
        },
        "a5258f1020284fb39fd074699dd72a3c": {
          "model_module": "@jupyter-widgets/base",
          "model_name": "LayoutModel",
          "state": {
            "_view_name": "LayoutView",
            "grid_template_rows": null,
            "right": null,
            "justify_content": null,
            "_view_module": "@jupyter-widgets/base",
            "overflow": null,
            "_model_module_version": "1.2.0",
            "_view_count": null,
            "flex_flow": null,
            "width": null,
            "min_width": null,
            "border": null,
            "align_items": null,
            "bottom": null,
            "_model_module": "@jupyter-widgets/base",
            "top": null,
            "grid_column": null,
            "overflow_y": null,
            "overflow_x": null,
            "grid_auto_flow": null,
            "grid_area": null,
            "grid_template_columns": null,
            "flex": null,
            "_model_name": "LayoutModel",
            "justify_items": null,
            "grid_row": null,
            "max_height": null,
            "align_content": null,
            "visibility": null,
            "align_self": null,
            "height": null,
            "min_height": null,
            "padding": null,
            "grid_auto_rows": null,
            "grid_gap": null,
            "max_width": null,
            "order": null,
            "_view_module_version": "1.2.0",
            "grid_template_areas": null,
            "object_position": null,
            "object_fit": null,
            "grid_auto_columns": null,
            "margin": null,
            "display": null,
            "left": null
          }
        },
        "c4344b391946478388100c23ec9da515": {
          "model_module": "@jupyter-widgets/controls",
          "model_name": "HBoxModel",
          "state": {
            "_view_name": "HBoxView",
            "_dom_classes": [],
            "_model_name": "HBoxModel",
            "_view_module": "@jupyter-widgets/controls",
            "_model_module_version": "1.5.0",
            "_view_count": null,
            "_view_module_version": "1.5.0",
            "box_style": "",
            "layout": "IPY_MODEL_71c6a23410694bb59fd8c8aec69339ba",
            "_model_module": "@jupyter-widgets/controls",
            "children": [
              "IPY_MODEL_2fc8e2b5d9cf483e9e305a05c13ca6e6",
              "IPY_MODEL_833b5fb7f6224becac29f12d33fd6e32"
            ]
          }
        },
        "71c6a23410694bb59fd8c8aec69339ba": {
          "model_module": "@jupyter-widgets/base",
          "model_name": "LayoutModel",
          "state": {
            "_view_name": "LayoutView",
            "grid_template_rows": null,
            "right": null,
            "justify_content": null,
            "_view_module": "@jupyter-widgets/base",
            "overflow": null,
            "_model_module_version": "1.2.0",
            "_view_count": null,
            "flex_flow": null,
            "width": null,
            "min_width": null,
            "border": null,
            "align_items": null,
            "bottom": null,
            "_model_module": "@jupyter-widgets/base",
            "top": null,
            "grid_column": null,
            "overflow_y": null,
            "overflow_x": null,
            "grid_auto_flow": null,
            "grid_area": null,
            "grid_template_columns": null,
            "flex": null,
            "_model_name": "LayoutModel",
            "justify_items": null,
            "grid_row": null,
            "max_height": null,
            "align_content": null,
            "visibility": null,
            "align_self": null,
            "height": null,
            "min_height": null,
            "padding": null,
            "grid_auto_rows": null,
            "grid_gap": null,
            "max_width": null,
            "order": null,
            "_view_module_version": "1.2.0",
            "grid_template_areas": null,
            "object_position": null,
            "object_fit": null,
            "grid_auto_columns": null,
            "margin": null,
            "display": null,
            "left": null
          }
        },
        "2fc8e2b5d9cf483e9e305a05c13ca6e6": {
          "model_module": "@jupyter-widgets/controls",
          "model_name": "FloatProgressModel",
          "state": {
            "_view_name": "ProgressView",
            "style": "IPY_MODEL_39d9622917ba4756a31163508f4111fc",
            "_dom_classes": [],
            "description": "test.tsv: 100%",
            "_model_name": "FloatProgressModel",
            "bar_style": "success",
            "max": 1041379,
            "_view_module": "@jupyter-widgets/controls",
            "_model_module_version": "1.5.0",
            "value": 1041379,
            "_view_count": null,
            "_view_module_version": "1.5.0",
            "orientation": "horizontal",
            "min": 0,
            "description_tooltip": null,
            "_model_module": "@jupyter-widgets/controls",
            "layout": "IPY_MODEL_73b02b7d539c4dd3b54f2a6f1fa8f5aa"
          }
        },
        "833b5fb7f6224becac29f12d33fd6e32": {
          "model_module": "@jupyter-widgets/controls",
          "model_name": "HTMLModel",
          "state": {
            "_view_name": "HTMLView",
            "style": "IPY_MODEL_da73189c90c34916909d4e49519addbd",
            "_dom_classes": [],
            "description": "",
            "_model_name": "HTMLModel",
            "placeholder": "​",
            "_view_module": "@jupyter-widgets/controls",
            "_model_module_version": "1.5.0",
            "value": " 1.04M/1.04M [00:00&lt;00:00, 1.42MB/s]",
            "_view_count": null,
            "_view_module_version": "1.5.0",
            "description_tooltip": null,
            "_model_module": "@jupyter-widgets/controls",
            "layout": "IPY_MODEL_0cc744c25e7a4df8b321c439892704d0"
          }
        },
        "39d9622917ba4756a31163508f4111fc": {
          "model_module": "@jupyter-widgets/controls",
          "model_name": "ProgressStyleModel",
          "state": {
            "_view_name": "StyleView",
            "_model_name": "ProgressStyleModel",
            "description_width": "initial",
            "_view_module": "@jupyter-widgets/base",
            "_model_module_version": "1.5.0",
            "_view_count": null,
            "_view_module_version": "1.2.0",
            "bar_color": null,
            "_model_module": "@jupyter-widgets/controls"
          }
        },
        "73b02b7d539c4dd3b54f2a6f1fa8f5aa": {
          "model_module": "@jupyter-widgets/base",
          "model_name": "LayoutModel",
          "state": {
            "_view_name": "LayoutView",
            "grid_template_rows": null,
            "right": null,
            "justify_content": null,
            "_view_module": "@jupyter-widgets/base",
            "overflow": null,
            "_model_module_version": "1.2.0",
            "_view_count": null,
            "flex_flow": null,
            "width": null,
            "min_width": null,
            "border": null,
            "align_items": null,
            "bottom": null,
            "_model_module": "@jupyter-widgets/base",
            "top": null,
            "grid_column": null,
            "overflow_y": null,
            "overflow_x": null,
            "grid_auto_flow": null,
            "grid_area": null,
            "grid_template_columns": null,
            "flex": null,
            "_model_name": "LayoutModel",
            "justify_items": null,
            "grid_row": null,
            "max_height": null,
            "align_content": null,
            "visibility": null,
            "align_self": null,
            "height": null,
            "min_height": null,
            "padding": null,
            "grid_auto_rows": null,
            "grid_gap": null,
            "max_width": null,
            "order": null,
            "_view_module_version": "1.2.0",
            "grid_template_areas": null,
            "object_position": null,
            "object_fit": null,
            "grid_auto_columns": null,
            "margin": null,
            "display": null,
            "left": null
          }
        },
        "da73189c90c34916909d4e49519addbd": {
          "model_module": "@jupyter-widgets/controls",
          "model_name": "DescriptionStyleModel",
          "state": {
            "_view_name": "StyleView",
            "_model_name": "DescriptionStyleModel",
            "description_width": "",
            "_view_module": "@jupyter-widgets/base",
            "_model_module_version": "1.5.0",
            "_view_count": null,
            "_view_module_version": "1.2.0",
            "_model_module": "@jupyter-widgets/controls"
          }
        },
        "0cc744c25e7a4df8b321c439892704d0": {
          "model_module": "@jupyter-widgets/base",
          "model_name": "LayoutModel",
          "state": {
            "_view_name": "LayoutView",
            "grid_template_rows": null,
            "right": null,
            "justify_content": null,
            "_view_module": "@jupyter-widgets/base",
            "overflow": null,
            "_model_module_version": "1.2.0",
            "_view_count": null,
            "flex_flow": null,
            "width": null,
            "min_width": null,
            "border": null,
            "align_items": null,
            "bottom": null,
            "_model_module": "@jupyter-widgets/base",
            "top": null,
            "grid_column": null,
            "overflow_y": null,
            "overflow_x": null,
            "grid_auto_flow": null,
            "grid_area": null,
            "grid_template_columns": null,
            "flex": null,
            "_model_name": "LayoutModel",
            "justify_items": null,
            "grid_row": null,
            "max_height": null,
            "align_content": null,
            "visibility": null,
            "align_self": null,
            "height": null,
            "min_height": null,
            "padding": null,
            "grid_auto_rows": null,
            "grid_gap": null,
            "max_width": null,
            "order": null,
            "_view_module_version": "1.2.0",
            "grid_template_areas": null,
            "object_position": null,
            "object_fit": null,
            "grid_auto_columns": null,
            "margin": null,
            "display": null,
            "left": null
          }
        },
        "235b55d1857e48c5aca914328ecfddb5": {
          "model_module": "@jupyter-widgets/controls",
          "model_name": "HBoxModel",
          "state": {
            "_view_name": "HBoxView",
            "_dom_classes": [],
            "_model_name": "HBoxModel",
            "_view_module": "@jupyter-widgets/controls",
            "_model_module_version": "1.5.0",
            "_view_count": null,
            "_view_module_version": "1.5.0",
            "box_style": "",
            "layout": "IPY_MODEL_fa1fc54f9cb9450296ab0b65a0ba4998",
            "_model_module": "@jupyter-widgets/controls",
            "children": [
              "IPY_MODEL_efcd47ab6b5c4d7792ac007a93cf8f95",
              "IPY_MODEL_6e2575d8936845e7916ace150b88ffb3"
            ]
          }
        },
        "fa1fc54f9cb9450296ab0b65a0ba4998": {
          "model_module": "@jupyter-widgets/base",
          "model_name": "LayoutModel",
          "state": {
            "_view_name": "LayoutView",
            "grid_template_rows": null,
            "right": null,
            "justify_content": null,
            "_view_module": "@jupyter-widgets/base",
            "overflow": null,
            "_model_module_version": "1.2.0",
            "_view_count": null,
            "flex_flow": null,
            "width": null,
            "min_width": null,
            "border": null,
            "align_items": null,
            "bottom": null,
            "_model_module": "@jupyter-widgets/base",
            "top": null,
            "grid_column": null,
            "overflow_y": null,
            "overflow_x": null,
            "grid_auto_flow": null,
            "grid_area": null,
            "grid_template_columns": null,
            "flex": null,
            "_model_name": "LayoutModel",
            "justify_items": null,
            "grid_row": null,
            "max_height": null,
            "align_content": null,
            "visibility": null,
            "align_self": null,
            "height": null,
            "min_height": null,
            "padding": null,
            "grid_auto_rows": null,
            "grid_gap": null,
            "max_width": null,
            "order": null,
            "_view_module_version": "1.2.0",
            "grid_template_areas": null,
            "object_position": null,
            "object_fit": null,
            "grid_auto_columns": null,
            "margin": null,
            "display": null,
            "left": null
          }
        },
        "efcd47ab6b5c4d7792ac007a93cf8f95": {
          "model_module": "@jupyter-widgets/controls",
          "model_name": "FloatProgressModel",
          "state": {
            "_view_name": "ProgressView",
            "style": "IPY_MODEL_e35c9c9c999f4e109ac6e15527e39e2c",
            "_dom_classes": [],
            "description": "text_prepare_tests.tsv: 100%",
            "_model_name": "FloatProgressModel",
            "bar_style": "success",
            "max": 5091,
            "_view_module": "@jupyter-widgets/controls",
            "_model_module_version": "1.5.0",
            "value": 5091,
            "_view_count": null,
            "_view_module_version": "1.5.0",
            "orientation": "horizontal",
            "min": 0,
            "description_tooltip": null,
            "_model_module": "@jupyter-widgets/controls",
            "layout": "IPY_MODEL_2408947400b64a7da46b594d72ddfa9d"
          }
        },
        "6e2575d8936845e7916ace150b88ffb3": {
          "model_module": "@jupyter-widgets/controls",
          "model_name": "HTMLModel",
          "state": {
            "_view_name": "HTMLView",
            "style": "IPY_MODEL_3d4e42c755824c20b0f676960d8e9506",
            "_dom_classes": [],
            "description": "",
            "_model_name": "HTMLModel",
            "placeholder": "​",
            "_view_module": "@jupyter-widgets/controls",
            "_model_module_version": "1.5.0",
            "value": " 5.09k/5.09k [00:00&lt;00:00, 103kB/s]",
            "_view_count": null,
            "_view_module_version": "1.5.0",
            "description_tooltip": null,
            "_model_module": "@jupyter-widgets/controls",
            "layout": "IPY_MODEL_969ac545cd684197877eea10d79a6e85"
          }
        },
        "e35c9c9c999f4e109ac6e15527e39e2c": {
          "model_module": "@jupyter-widgets/controls",
          "model_name": "ProgressStyleModel",
          "state": {
            "_view_name": "StyleView",
            "_model_name": "ProgressStyleModel",
            "description_width": "initial",
            "_view_module": "@jupyter-widgets/base",
            "_model_module_version": "1.5.0",
            "_view_count": null,
            "_view_module_version": "1.2.0",
            "bar_color": null,
            "_model_module": "@jupyter-widgets/controls"
          }
        },
        "2408947400b64a7da46b594d72ddfa9d": {
          "model_module": "@jupyter-widgets/base",
          "model_name": "LayoutModel",
          "state": {
            "_view_name": "LayoutView",
            "grid_template_rows": null,
            "right": null,
            "justify_content": null,
            "_view_module": "@jupyter-widgets/base",
            "overflow": null,
            "_model_module_version": "1.2.0",
            "_view_count": null,
            "flex_flow": null,
            "width": null,
            "min_width": null,
            "border": null,
            "align_items": null,
            "bottom": null,
            "_model_module": "@jupyter-widgets/base",
            "top": null,
            "grid_column": null,
            "overflow_y": null,
            "overflow_x": null,
            "grid_auto_flow": null,
            "grid_area": null,
            "grid_template_columns": null,
            "flex": null,
            "_model_name": "LayoutModel",
            "justify_items": null,
            "grid_row": null,
            "max_height": null,
            "align_content": null,
            "visibility": null,
            "align_self": null,
            "height": null,
            "min_height": null,
            "padding": null,
            "grid_auto_rows": null,
            "grid_gap": null,
            "max_width": null,
            "order": null,
            "_view_module_version": "1.2.0",
            "grid_template_areas": null,
            "object_position": null,
            "object_fit": null,
            "grid_auto_columns": null,
            "margin": null,
            "display": null,
            "left": null
          }
        },
        "3d4e42c755824c20b0f676960d8e9506": {
          "model_module": "@jupyter-widgets/controls",
          "model_name": "DescriptionStyleModel",
          "state": {
            "_view_name": "StyleView",
            "_model_name": "DescriptionStyleModel",
            "description_width": "",
            "_view_module": "@jupyter-widgets/base",
            "_model_module_version": "1.5.0",
            "_view_count": null,
            "_view_module_version": "1.2.0",
            "_model_module": "@jupyter-widgets/controls"
          }
        },
        "969ac545cd684197877eea10d79a6e85": {
          "model_module": "@jupyter-widgets/base",
          "model_name": "LayoutModel",
          "state": {
            "_view_name": "LayoutView",
            "grid_template_rows": null,
            "right": null,
            "justify_content": null,
            "_view_module": "@jupyter-widgets/base",
            "overflow": null,
            "_model_module_version": "1.2.0",
            "_view_count": null,
            "flex_flow": null,
            "width": null,
            "min_width": null,
            "border": null,
            "align_items": null,
            "bottom": null,
            "_model_module": "@jupyter-widgets/base",
            "top": null,
            "grid_column": null,
            "overflow_y": null,
            "overflow_x": null,
            "grid_auto_flow": null,
            "grid_area": null,
            "grid_template_columns": null,
            "flex": null,
            "_model_name": "LayoutModel",
            "justify_items": null,
            "grid_row": null,
            "max_height": null,
            "align_content": null,
            "visibility": null,
            "align_self": null,
            "height": null,
            "min_height": null,
            "padding": null,
            "grid_auto_rows": null,
            "grid_gap": null,
            "max_width": null,
            "order": null,
            "_view_module_version": "1.2.0",
            "grid_template_areas": null,
            "object_position": null,
            "object_fit": null,
            "grid_auto_columns": null,
            "margin": null,
            "display": null,
            "left": null
          }
        }
      }
    }
  },
  "cells": [
    {
      "cell_type": "markdown",
      "metadata": {
        "id": "uwDuZtd0BmdT",
        "colab_type": "text"
      },
      "source": [
        "# Predict tags on StackOverflow with linear models"
      ]
    },
    {
      "cell_type": "markdown",
      "metadata": {
        "id": "iz8TqyBeBmdT",
        "colab_type": "text"
      },
      "source": [
        "In this assignment you will learn how to predict tags for posts from [StackOverflow](https://stackoverflow.com). To solve this task you will use multilabel classification approach.\n",
        "\n",
        "### Libraries\n",
        "\n",
        "In this task you will need the following libraries:\n",
        "- [Numpy](http://www.numpy.org) — a package for scientific computing.\n",
        "- [Pandas](https://pandas.pydata.org) — a library providing high-performance, easy-to-use data structures and data analysis tools for the Python\n",
        "- [scikit-learn](http://scikit-learn.org/stable/index.html) — a tool for data mining and data analysis.\n",
        "- [NLTK](http://www.nltk.org) — a platform to work with natural language."
      ]
    },
    {
      "cell_type": "markdown",
      "metadata": {
        "id": "iW2JEaU5BmdU",
        "colab_type": "text"
      },
      "source": [
        "### Data\n",
        "\n",
        "The following cell will download all data required for this assignment into the folder `week1/data`."
      ]
    },
    {
      "cell_type": "code",
      "metadata": {
        "id": "NBkVqOLmBmdV",
        "colab_type": "code",
        "colab": {
          "base_uri": "https://localhost:8080/",
          "height": 397,
          "referenced_widgets": [
            "8478279fb4dd4ab68db780f37eddb8e3",
            "e7240078564947eda593731f050ab1cc",
            "998ceb10c31e4abca3a185b169f6768f",
            "e28c768df34649acafb05a3b1e755ee1",
            "2b96cd4f91a145ed9b86b17fe7942cc9",
            "b03178b87c1a46f8a1f4a46be355007e",
            "519eed1f49404e519a08e2a69b67e95a",
            "98e20133368047c4a6005400e50a7167",
            "23623cf3de60474d88b7aa077c95f798",
            "4c2546d9e025466f8d20bf377f8da9da",
            "17eea70f162a4426a31f9f4188132ffe",
            "792ece5cd83e4b93bb58986d142eda86",
            "69a402e9e0c242278352bb0232938729",
            "a1d54423a05847b4ad77082d8bd1a02d",
            "d0394ed8feea4c4d95762ff500ace375",
            "a5258f1020284fb39fd074699dd72a3c",
            "c4344b391946478388100c23ec9da515",
            "71c6a23410694bb59fd8c8aec69339ba",
            "2fc8e2b5d9cf483e9e305a05c13ca6e6",
            "833b5fb7f6224becac29f12d33fd6e32",
            "39d9622917ba4756a31163508f4111fc",
            "73b02b7d539c4dd3b54f2a6f1fa8f5aa",
            "da73189c90c34916909d4e49519addbd",
            "0cc744c25e7a4df8b321c439892704d0",
            "235b55d1857e48c5aca914328ecfddb5",
            "fa1fc54f9cb9450296ab0b65a0ba4998",
            "efcd47ab6b5c4d7792ac007a93cf8f95",
            "6e2575d8936845e7916ace150b88ffb3",
            "e35c9c9c999f4e109ac6e15527e39e2c",
            "2408947400b64a7da46b594d72ddfa9d",
            "3d4e42c755824c20b0f676960d8e9506",
            "969ac545cd684197877eea10d79a6e85"
          ]
        },
        "outputId": "bf3d796a-a078-4199-fb6c-a0ab908ebdb3"
      },
      "source": [
        "try:\n",
        "    import google.colab\n",
        "    IN_COLAB = True\n",
        "except:\n",
        "    IN_COLAB = False\n",
        "\n",
        "if IN_COLAB:\n",
        "    ! wget https://raw.githubusercontent.com/hse-aml/natural-language-processing/master/setup_google_colab.py -O setup_google_colab.py\n",
        "    import setup_google_colab\n",
        "    setup_google_colab.setup_week1() \n",
        "    \n",
        "import sys\n",
        "sys.path.append(\"..\")\n",
        "from common.download_utils import download_week1_resources\n",
        "\n",
        "download_week1_resources()"
      ],
      "execution_count": 1,
      "outputs": [
        {
          "output_type": "stream",
          "text": [
            "--2020-07-06 19:54:07--  https://raw.githubusercontent.com/hse-aml/natural-language-processing/master/setup_google_colab.py\n",
            "Resolving raw.githubusercontent.com (raw.githubusercontent.com)... 151.101.0.133, 151.101.64.133, 151.101.128.133, ...\n",
            "Connecting to raw.githubusercontent.com (raw.githubusercontent.com)|151.101.0.133|:443... connected.\n",
            "HTTP request sent, awaiting response... 200 OK\n",
            "Length: 1991 (1.9K) [text/plain]\n",
            "Saving to: ‘setup_google_colab.py’\n",
            "\n",
            "\rsetup_google_colab.   0%[                    ]       0  --.-KB/s               \rsetup_google_colab. 100%[===================>]   1.94K  --.-KB/s    in 0s      \n",
            "\n",
            "2020-07-06 19:54:07 (27.7 MB/s) - ‘setup_google_colab.py’ saved [1991/1991]\n",
            "\n"
          ],
          "name": "stdout"
        },
        {
          "output_type": "display_data",
          "data": {
            "application/vnd.jupyter.widget-view+json": {
              "model_id": "8478279fb4dd4ab68db780f37eddb8e3",
              "version_minor": 0,
              "version_major": 2
            },
            "text/plain": [
              "HBox(children=(FloatProgress(value=0.0, max=7196138.0), HTML(value='')))"
            ]
          },
          "metadata": {
            "tags": []
          }
        },
        {
          "output_type": "stream",
          "text": [
            "\n"
          ],
          "name": "stdout"
        },
        {
          "output_type": "display_data",
          "data": {
            "application/vnd.jupyter.widget-view+json": {
              "model_id": "23623cf3de60474d88b7aa077c95f798",
              "version_minor": 0,
              "version_major": 2
            },
            "text/plain": [
              "HBox(children=(FloatProgress(value=0.0, max=2166270.0), HTML(value='')))"
            ]
          },
          "metadata": {
            "tags": []
          }
        },
        {
          "output_type": "stream",
          "text": [
            "\n"
          ],
          "name": "stdout"
        },
        {
          "output_type": "display_data",
          "data": {
            "application/vnd.jupyter.widget-view+json": {
              "model_id": "c4344b391946478388100c23ec9da515",
              "version_minor": 0,
              "version_major": 2
            },
            "text/plain": [
              "HBox(children=(FloatProgress(value=0.0, max=1041379.0), HTML(value='')))"
            ]
          },
          "metadata": {
            "tags": []
          }
        },
        {
          "output_type": "stream",
          "text": [
            "\n"
          ],
          "name": "stdout"
        },
        {
          "output_type": "display_data",
          "data": {
            "application/vnd.jupyter.widget-view+json": {
              "model_id": "235b55d1857e48c5aca914328ecfddb5",
              "version_minor": 0,
              "version_major": 2
            },
            "text/plain": [
              "HBox(children=(FloatProgress(value=0.0, max=5091.0), HTML(value='')))"
            ]
          },
          "metadata": {
            "tags": []
          }
        },
        {
          "output_type": "stream",
          "text": [
            "\n"
          ],
          "name": "stdout"
        }
      ]
    },
    {
      "cell_type": "markdown",
      "metadata": {
        "id": "kXfaH3jeBmdX",
        "colab_type": "text"
      },
      "source": [
        "### Grading\n",
        "We will create a grader instance below and use it to collect your answers. Note that these outputs will be stored locally inside grader and will be uploaded to platform only after running submitting function in the last part of this assignment. If you want to make partial submission, you can run that cell any time you want."
      ]
    },
    {
      "cell_type": "code",
      "metadata": {
        "id": "ltyqCtNJBmdY",
        "colab_type": "code",
        "colab": {}
      },
      "source": [
        "from grader import Grader"
      ],
      "execution_count": 2,
      "outputs": []
    },
    {
      "cell_type": "code",
      "metadata": {
        "id": "SB1FRJWIBmda",
        "colab_type": "code",
        "colab": {}
      },
      "source": [
        "grader = Grader()"
      ],
      "execution_count": 3,
      "outputs": []
    },
    {
      "cell_type": "markdown",
      "metadata": {
        "id": "1M6Bzo8_Bmdd",
        "colab_type": "text"
      },
      "source": [
        "### Text preprocessing"
      ]
    },
    {
      "cell_type": "markdown",
      "metadata": {
        "id": "u9pQ4v2CBmde",
        "colab_type": "text"
      },
      "source": [
        "For this and most of the following assignments you will need to use a list of stop words. It can be downloaded from *nltk*:"
      ]
    },
    {
      "cell_type": "code",
      "metadata": {
        "id": "x7UHIm4rBmde",
        "colab_type": "code",
        "colab": {
          "base_uri": "https://localhost:8080/",
          "height": 50
        },
        "outputId": "f0702ad7-d0ea-4293-f700-d48d52bb7b9a"
      },
      "source": [
        "import nltk\n",
        "nltk.download('stopwords')\n",
        "from nltk.corpus import stopwords"
      ],
      "execution_count": 4,
      "outputs": [
        {
          "output_type": "stream",
          "text": [
            "[nltk_data] Downloading package stopwords to /root/nltk_data...\n",
            "[nltk_data]   Unzipping corpora/stopwords.zip.\n"
          ],
          "name": "stderr"
        }
      ]
    },
    {
      "cell_type": "markdown",
      "metadata": {
        "id": "xByG5UkJBmdi",
        "colab_type": "text"
      },
      "source": [
        "In this task you will deal with a dataset of post titles from StackOverflow. You are provided a split to 3 sets: *train*, *validation* and *test*. All corpora (except for *test*) contain titles of the posts and corresponding tags (100 tags are available). The *test* set is provided for Coursera's grading and doesn't contain answers. Upload the corpora using *pandas* and look at the data:"
      ]
    },
    {
      "cell_type": "code",
      "metadata": {
        "id": "1XZ0IOh9Bmdi",
        "colab_type": "code",
        "colab": {}
      },
      "source": [
        "from ast import literal_eval\n",
        "import pandas as pd\n",
        "import numpy as np"
      ],
      "execution_count": 5,
      "outputs": []
    },
    {
      "cell_type": "code",
      "metadata": {
        "id": "FNsUYJZbBmdn",
        "colab_type": "code",
        "colab": {}
      },
      "source": [
        "def read_data(filename):\n",
        "    data = pd.read_csv(filename, sep='\\t')\n",
        "    data['tags'] = data['tags'].apply(literal_eval)\n",
        "    return data"
      ],
      "execution_count": 6,
      "outputs": []
    },
    {
      "cell_type": "code",
      "metadata": {
        "id": "4bVeDtIPBmdr",
        "colab_type": "code",
        "colab": {}
      },
      "source": [
        "train = read_data('data/train.tsv')\n",
        "validation = read_data('data/validation.tsv')\n",
        "test = pd.read_csv('data/test.tsv', sep='\\t')"
      ],
      "execution_count": 7,
      "outputs": []
    },
    {
      "cell_type": "code",
      "metadata": {
        "id": "4YpdHnsJBmdv",
        "colab_type": "code",
        "colab": {
          "base_uri": "https://localhost:8080/",
          "height": 195
        },
        "outputId": "ee3dacbe-3eda-42c9-c64c-06fc894ea71e"
      },
      "source": [
        "train.head()"
      ],
      "execution_count": 8,
      "outputs": [
        {
          "output_type": "execute_result",
          "data": {
            "text/html": [
              "<div>\n",
              "<style scoped>\n",
              "    .dataframe tbody tr th:only-of-type {\n",
              "        vertical-align: middle;\n",
              "    }\n",
              "\n",
              "    .dataframe tbody tr th {\n",
              "        vertical-align: top;\n",
              "    }\n",
              "\n",
              "    .dataframe thead th {\n",
              "        text-align: right;\n",
              "    }\n",
              "</style>\n",
              "<table border=\"1\" class=\"dataframe\">\n",
              "  <thead>\n",
              "    <tr style=\"text-align: right;\">\n",
              "      <th></th>\n",
              "      <th>title</th>\n",
              "      <th>tags</th>\n",
              "    </tr>\n",
              "  </thead>\n",
              "  <tbody>\n",
              "    <tr>\n",
              "      <th>0</th>\n",
              "      <td>How to draw a stacked dotplot in R?</td>\n",
              "      <td>[r]</td>\n",
              "    </tr>\n",
              "    <tr>\n",
              "      <th>1</th>\n",
              "      <td>mysql select all records where a datetime fiel...</td>\n",
              "      <td>[php, mysql]</td>\n",
              "    </tr>\n",
              "    <tr>\n",
              "      <th>2</th>\n",
              "      <td>How to terminate windows phone 8.1 app</td>\n",
              "      <td>[c#]</td>\n",
              "    </tr>\n",
              "    <tr>\n",
              "      <th>3</th>\n",
              "      <td>get current time in a specific country via jquery</td>\n",
              "      <td>[javascript, jquery]</td>\n",
              "    </tr>\n",
              "    <tr>\n",
              "      <th>4</th>\n",
              "      <td>Configuring Tomcat to Use SSL</td>\n",
              "      <td>[java]</td>\n",
              "    </tr>\n",
              "  </tbody>\n",
              "</table>\n",
              "</div>"
            ],
            "text/plain": [
              "                                               title                  tags\n",
              "0                How to draw a stacked dotplot in R?                   [r]\n",
              "1  mysql select all records where a datetime fiel...          [php, mysql]\n",
              "2             How to terminate windows phone 8.1 app                  [c#]\n",
              "3  get current time in a specific country via jquery  [javascript, jquery]\n",
              "4                      Configuring Tomcat to Use SSL                [java]"
            ]
          },
          "metadata": {
            "tags": []
          },
          "execution_count": 8
        }
      ]
    },
    {
      "cell_type": "markdown",
      "metadata": {
        "id": "9h9_6sEgBmd0",
        "colab_type": "text"
      },
      "source": [
        "As you can see, *title* column contains titles of the posts and *tags* column contains the tags. It could be noticed that a number of tags for a post is not fixed and could be as many as necessary."
      ]
    },
    {
      "cell_type": "markdown",
      "metadata": {
        "id": "2-mh3wcwBmd1",
        "colab_type": "text"
      },
      "source": [
        "For a more comfortable usage, initialize *X_train*, *X_val*, *X_test*, *y_train*, *y_val*."
      ]
    },
    {
      "cell_type": "code",
      "metadata": {
        "id": "Pc0mBePEBmd1",
        "colab_type": "code",
        "colab": {}
      },
      "source": [
        "X_train, y_train = train['title'].values, train['tags'].values\n",
        "X_val, y_val = validation['title'].values, validation['tags'].values\n",
        "X_test = test['title'].values"
      ],
      "execution_count": 9,
      "outputs": []
    },
    {
      "cell_type": "markdown",
      "metadata": {
        "id": "zIwMXCp5Bmd8",
        "colab_type": "text"
      },
      "source": [
        "One of the most known difficulties when working with natural data is that it's unstructured. For example, if you use it \"as is\" and extract tokens just by splitting the titles by whitespaces, you will see that there are many \"weird\" tokens like *3.5?*, *\"Flip*, etc. To prevent the problems, it's usually useful to prepare the data somehow. In this task you'll write a function, which will be also used in the other assignments. \n",
        "\n",
        "**Task 1 (TextPrepare).** Implement the function *text_prepare* following the instructions. After that, run the function *test_text_prepare* to test it on tiny cases and submit it to Coursera."
      ]
    },
    {
      "cell_type": "code",
      "metadata": {
        "id": "PafPVARIBmd9",
        "colab_type": "code",
        "colab": {}
      },
      "source": [
        "import re"
      ],
      "execution_count": 10,
      "outputs": []
    },
    {
      "cell_type": "code",
      "metadata": {
        "id": "G5gT_ThpBmd_",
        "colab_type": "code",
        "colab": {}
      },
      "source": [
        "REPLACE_BY_SPACE_RE = re.compile('[/(){}\\[\\]\\|@,;]')\n",
        "BAD_SYMBOLS_RE = re.compile('[^0-9a-z #+_]')\n",
        "STOPWORDS = set(stopwords.words('english'))\n",
        "\n",
        "def text_prepare(text):\n",
        "    \"\"\"\n",
        "        text: a string\n",
        "        \n",
        "        return: modified initial string\n",
        "    \"\"\"\n",
        "    text = text.lower() # lowercase text\n",
        "    \n",
        "    text = re.sub(REPLACE_BY_SPACE_RE, ' ', text) # replace REPLACE_BY_SPACE_RE symbols by space in text\n",
        "    \n",
        "    text = re.sub(BAD_SYMBOLS_RE, '', text) # delete symbols which are in BAD_SYMBOLS_RE from text\n",
        "    \n",
        "    text =  \" \".join([word for word in text.split() if word not in STOPWORDS and ' ']) # delete stopwords from text\n",
        "    \n",
        "    return text"
      ],
      "execution_count": 11,
      "outputs": []
    },
    {
      "cell_type": "code",
      "metadata": {
        "id": "qgEbcHf8BmeF",
        "colab_type": "code",
        "colab": {}
      },
      "source": [
        "def test_text_prepare():\n",
        "    examples = [\"SQL Server - any equivalent of Excel's CHOOSE function?\",\n",
        "                \"How to free c++ memory vector<int> * arr?\"]\n",
        "    answers = [\"sql server equivalent excels choose function\", \n",
        "               \"free c++ memory vectorint arr\"]\n",
        "    for ex, ans in zip(examples, answers):\n",
        "        if text_prepare(ex) != ans:\n",
        "            return \"Wrong answer for the case: '%s'\" % ex\n",
        "    return 'Basic tests are passed.'"
      ],
      "execution_count": 12,
      "outputs": []
    },
    {
      "cell_type": "code",
      "metadata": {
        "id": "lNKPRptLBmeL",
        "colab_type": "code",
        "colab": {
          "base_uri": "https://localhost:8080/",
          "height": 34
        },
        "outputId": "8e26786b-e712-4cca-a1ae-26205e4d5938"
      },
      "source": [
        "print(test_text_prepare())"
      ],
      "execution_count": 13,
      "outputs": [
        {
          "output_type": "stream",
          "text": [
            "Basic tests are passed.\n"
          ],
          "name": "stdout"
        }
      ]
    },
    {
      "cell_type": "markdown",
      "metadata": {
        "id": "KH16WsXABmeP",
        "colab_type": "text"
      },
      "source": [
        "Run your implementation for questions from file *text_prepare_tests.tsv* to earn the points."
      ]
    },
    {
      "cell_type": "code",
      "metadata": {
        "id": "kRKEqSo7BmeP",
        "colab_type": "code",
        "colab": {
          "base_uri": "https://localhost:8080/",
          "height": 101
        },
        "outputId": "2dd51f7f-b9c1-4894-9a35-87811bb0b688"
      },
      "source": [
        "prepared_questions = []\n",
        "for line in open('data/text_prepare_tests.tsv', encoding='utf-8'):\n",
        "    line = text_prepare(line.strip())\n",
        "    prepared_questions.append(line)\n",
        "text_prepare_results = '\\n'.join(prepared_questions)\n",
        "\n",
        "grader.submit_tag('TextPrepare', text_prepare_results)"
      ],
      "execution_count": 14,
      "outputs": [
        {
          "output_type": "stream",
          "text": [
            "Current answer for task TextPrepare is:\n",
            " sqlite php readonly\n",
            "creating multiple textboxes dynamically\n",
            "self one prefer javascript\n",
            "save php date...\n"
          ],
          "name": "stdout"
        }
      ]
    },
    {
      "cell_type": "markdown",
      "metadata": {
        "id": "9moLlgGyBmeS",
        "colab_type": "text"
      },
      "source": [
        "Now we can preprocess the titles using function *text_prepare* and  making sure that the headers don't have bad symbols:"
      ]
    },
    {
      "cell_type": "code",
      "metadata": {
        "id": "STYc8-cyBmeT",
        "colab_type": "code",
        "colab": {}
      },
      "source": [
        "X_train = [text_prepare(x) for x in X_train]\n",
        "X_val = [text_prepare(x) for x in X_val]\n",
        "X_test = [text_prepare(x) for x in X_test]"
      ],
      "execution_count": 15,
      "outputs": []
    },
    {
      "cell_type": "code",
      "metadata": {
        "id": "FuYv1pyzBmeX",
        "colab_type": "code",
        "colab": {
          "base_uri": "https://localhost:8080/",
          "height": 67
        },
        "outputId": "71a3a57d-d14b-4e52-93fd-f3062967d853"
      },
      "source": [
        "X_train[:3]"
      ],
      "execution_count": 16,
      "outputs": [
        {
          "output_type": "execute_result",
          "data": {
            "text/plain": [
              "['draw stacked dotplot r',\n",
              " 'mysql select records datetime field less specified value',\n",
              " 'terminate windows phone 81 app']"
            ]
          },
          "metadata": {
            "tags": []
          },
          "execution_count": 16
        }
      ]
    },
    {
      "cell_type": "markdown",
      "metadata": {
        "id": "dvHCRZksBmeZ",
        "colab_type": "text"
      },
      "source": [
        "For each tag and for each word calculate how many times they occur in the train corpus. \n",
        "\n",
        "**Task 2 (WordsTagsCount).** Find 3 most popular tags and 3 most popular words in the train data and submit the results to earn the points."
      ]
    },
    {
      "cell_type": "code",
      "metadata": {
        "id": "6-0UUYzoBmea",
        "colab_type": "code",
        "colab": {}
      },
      "source": [
        "# Dictionary of all tags from train corpus with their counts.\n",
        "tags_counts = {}\n",
        "# Dictionary of all words from train corpus with their counts.\n",
        "words_counts = {}\n",
        "\n",
        "######################################\n",
        "######### YOUR CODE HERE #############\n",
        "######################################\n",
        "for text in X_train:\n",
        "  for word in text.split():\n",
        "    words_counts[word] = words_counts.get(word,0)+1\n",
        "\n",
        "for tags in y_train:\n",
        "  for tag in tags:\n",
        "    tags_counts[tag] = tags_counts.get(tag,0)+1"
      ],
      "execution_count": 17,
      "outputs": []
    },
    {
      "cell_type": "markdown",
      "metadata": {
        "id": "79oJB6TPBmec",
        "colab_type": "text"
      },
      "source": [
        "We are assuming that *tags_counts* and *words_counts* are dictionaries like `{'some_word_or_tag': frequency}`. After applying the sorting procedure, results will be look like this: `[('most_popular_word_or_tag', frequency), ('less_popular_word_or_tag', frequency), ...]`. The grader gets the results in the following format (two comma-separated strings with line break):\n",
        "\n",
        "    tag1,tag2,tag3\n",
        "    word1,word2,word3\n",
        "\n",
        "Pay attention that in this assignment you should not submit frequencies or some additional information."
      ]
    },
    {
      "cell_type": "code",
      "metadata": {
        "id": "x_TKnk_2Bmec",
        "colab_type": "code",
        "colab": {
          "base_uri": "https://localhost:8080/",
          "height": 34
        },
        "outputId": "10f94336-7751-427e-f578-0f1bf0783614"
      },
      "source": [
        "most_common_tags = sorted(tags_counts.items(), key=lambda x: x[1], reverse=True)[:3]\n",
        "most_common_words = sorted(words_counts.items(), key=lambda x: x[1], reverse=True)[:3]\n",
        "\n",
        "grader.submit_tag('WordsTagsCount', '%s\\n%s' % (','.join(tag for tag, _ in most_common_tags), \n",
        "                                                ','.join(word for word, _ in most_common_words)))"
      ],
      "execution_count": 63,
      "outputs": [
        {
          "output_type": "execute_result",
          "data": {
            "text/plain": [
              "[('javascript', 19078), ('c#', 19077), ('java', 18661)]"
            ]
          },
          "metadata": {
            "tags": []
          },
          "execution_count": 63
        }
      ]
    },
    {
      "cell_type": "markdown",
      "metadata": {
        "id": "jmtWMzt_Bmee",
        "colab_type": "text"
      },
      "source": [
        "### Transforming text to a vector\n",
        "\n",
        "Machine Learning algorithms work with numeric data and we cannot use the provided text data \"as is\". There are many ways to transform text data to numeric vectors. In this task you will try to use two of them.\n",
        "\n",
        "#### Bag of words\n",
        "\n",
        "One of the well-known approaches is a *bag-of-words* representation. To create this transformation, follow the steps:\n",
        "1. Find *N* most popular words in train corpus and numerate them. Now we have a dictionary of the most popular words.\n",
        "2. For each title in the corpora create a zero vector with the dimension equals to *N*.\n",
        "3. For each text in the corpora iterate over words which are in the dictionary and increase by 1 the corresponding coordinate.\n",
        "\n",
        "Let's try to do it for a toy example. Imagine that we have *N* = 4 and the list of the most popular words is \n",
        "\n",
        "    ['hi', 'you', 'me', 'are']\n",
        "\n",
        "Then we need to numerate them, for example, like this: \n",
        "\n",
        "    {'hi': 0, 'you': 1, 'me': 2, 'are': 3}\n",
        "\n",
        "And we have the text, which we want to transform to the vector:\n",
        "\n",
        "    'hi how are you'\n",
        "\n",
        "For this text we create a corresponding zero vector \n",
        "\n",
        "    [0, 0, 0, 0]\n",
        "    \n",
        "And iterate over all words, and if the word is in the dictionary, we increase the value of the corresponding position in the vector:\n",
        "\n",
        "    'hi':  [1, 0, 0, 0]\n",
        "    'how': [1, 0, 0, 0] # word 'how' is not in our dictionary\n",
        "    'are': [1, 0, 0, 1]\n",
        "    'you': [1, 1, 0, 1]\n",
        "\n",
        "The resulting vector will be \n",
        "\n",
        "    [1, 1, 0, 1]\n",
        "   \n",
        "Implement the described encoding in the function *my_bag_of_words* with the size of the dictionary equals to 5000. To find the most common words use train data. You can test your code using the function *test_my_bag_of_words*."
      ]
    },
    {
      "cell_type": "code",
      "metadata": {
        "id": "92_crDl6Bmef",
        "colab_type": "code",
        "colab": {}
      },
      "source": [
        "DICT_SIZE = 5000\n",
        "####### YOUR CODE HERE #######\n",
        "WORDS_TO_INDEX = {words[0]:i for i, words in enumerate(sorted(words_counts.items(), key=lambda x: x[1], reverse=True)[:DICT_SIZE])}\n",
        "INDEX_TO_WORDS = {WORDS_TO_INDEX[k]:k for k in WORDS_TO_INDEX}\n",
        "ALL_WORDS = WORDS_TO_INDEX.keys()\n",
        "\n",
        "def my_bag_of_words(text, words_to_index, dict_size):\n",
        "    \"\"\"\n",
        "        text: a string\n",
        "        dict_size: size of the dictionary\n",
        "        \n",
        "        return a vector which is a bag-of-words representation of 'text'\n",
        "    \"\"\"\n",
        "    result_vector = np.zeros(dict_size)\n",
        "    ######################################\n",
        "    ######### YOUR CODE HERE #############\n",
        "    ######################################\n",
        "    for word in text.split():\n",
        "      if words_to_index.get(word)!=None:\n",
        "        result_vector[words_to_index.get(word)]=1        \n",
        "\n",
        "    return result_vector"
      ],
      "execution_count": 19,
      "outputs": []
    },
    {
      "cell_type": "code",
      "metadata": {
        "id": "MrwAQ6U9Bmeh",
        "colab_type": "code",
        "colab": {}
      },
      "source": [
        "def test_my_bag_of_words():\n",
        "    words_to_index = {'hi': 0, 'you': 1, 'me': 2, 'are': 3}\n",
        "    examples = ['hi how are you']\n",
        "    answers = [[1, 1, 0, 1]]\n",
        "    for ex, ans in zip(examples, answers):\n",
        "        if (my_bag_of_words(ex, words_to_index, 4) != ans).any():\n",
        "            return \"Wrong answer for the case: '%s'\" % ex\n",
        "    return 'Basic tests are passed.'"
      ],
      "execution_count": 20,
      "outputs": []
    },
    {
      "cell_type": "code",
      "metadata": {
        "id": "shA7et_FBmej",
        "colab_type": "code",
        "colab": {
          "base_uri": "https://localhost:8080/",
          "height": 34
        },
        "outputId": "aa4bbfd7-b1ff-496d-9b89-0371f645c12e"
      },
      "source": [
        "print(test_my_bag_of_words())"
      ],
      "execution_count": 21,
      "outputs": [
        {
          "output_type": "stream",
          "text": [
            "Basic tests are passed.\n"
          ],
          "name": "stdout"
        }
      ]
    },
    {
      "cell_type": "markdown",
      "metadata": {
        "id": "3R0RT6oNBmen",
        "colab_type": "text"
      },
      "source": [
        "Now apply the implemented function to all samples (this might take up to a minute):"
      ]
    },
    {
      "cell_type": "code",
      "metadata": {
        "id": "nFlIAmM1Bmen",
        "colab_type": "code",
        "colab": {}
      },
      "source": [
        "from scipy import sparse as sp_sparse"
      ],
      "execution_count": 22,
      "outputs": []
    },
    {
      "cell_type": "code",
      "metadata": {
        "id": "jDFagAnKBmeq",
        "colab_type": "code",
        "colab": {
          "base_uri": "https://localhost:8080/",
          "height": 67
        },
        "outputId": "bc8d0e85-7442-4d39-96eb-9fe308a8c7e4"
      },
      "source": [
        "X_train_mybag = sp_sparse.vstack([sp_sparse.csr_matrix(my_bag_of_words(text, WORDS_TO_INDEX, DICT_SIZE)) for text in X_train])\n",
        "X_val_mybag = sp_sparse.vstack([sp_sparse.csr_matrix(my_bag_of_words(text, WORDS_TO_INDEX, DICT_SIZE)) for text in X_val])\n",
        "X_test_mybag = sp_sparse.vstack([sp_sparse.csr_matrix(my_bag_of_words(text, WORDS_TO_INDEX, DICT_SIZE)) for text in X_test])\n",
        "print('X_train shape ', X_train_mybag.shape)\n",
        "print('X_val shape ', X_val_mybag.shape)\n",
        "print('X_test shape ', X_test_mybag.shape)"
      ],
      "execution_count": 23,
      "outputs": [
        {
          "output_type": "stream",
          "text": [
            "X_train shape  (100000, 5000)\n",
            "X_val shape  (30000, 5000)\n",
            "X_test shape  (20000, 5000)\n"
          ],
          "name": "stdout"
        }
      ]
    },
    {
      "cell_type": "markdown",
      "metadata": {
        "id": "IYQtEEOLBmes",
        "colab_type": "text"
      },
      "source": [
        "As you might notice, we transform the data to sparse representation, to store the useful information efficiently. There are many [types](https://docs.scipy.org/doc/scipy/reference/sparse.html) of such representations, however sklearn algorithms can work only with [csr](https://docs.scipy.org/doc/scipy/reference/generated/scipy.sparse.csr_matrix.html#scipy.sparse.csr_matrix) matrix, so we will use this one."
      ]
    },
    {
      "cell_type": "markdown",
      "metadata": {
        "id": "rcbF3Ci-Bmes",
        "colab_type": "text"
      },
      "source": [
        "**Task 3 (BagOfWords).** For the 11th row in *X_train_mybag* find how many non-zero elements it has. In this task the answer (variable *non_zero_elements_count*) should be an integer number, e.g. 20."
      ]
    },
    {
      "cell_type": "code",
      "metadata": {
        "id": "_ZWuaZ6NBmes",
        "colab_type": "code",
        "colab": {
          "base_uri": "https://localhost:8080/",
          "height": 50
        },
        "outputId": "d8e38cb9-0185-46bc-b8f1-85c5c798db7b"
      },
      "source": [
        "row = X_train_mybag[10].toarray()[0]\n",
        "non_zero_elements_count = int(row.sum())\n",
        "\n",
        "grader.submit_tag('BagOfWords', str(non_zero_elements_count))"
      ],
      "execution_count": 24,
      "outputs": [
        {
          "output_type": "stream",
          "text": [
            "Current answer for task BagOfWords is:\n",
            " 7...\n"
          ],
          "name": "stdout"
        }
      ]
    },
    {
      "cell_type": "markdown",
      "metadata": {
        "id": "J-d-ELoGBmev",
        "colab_type": "text"
      },
      "source": [
        "#### TF-IDF\n",
        "\n",
        "The second approach extends the bag-of-words framework by taking into account total frequencies of words in the corpora. It helps to penalize too frequent words and provide better features space. \n",
        "\n",
        "Implement function *tfidf_features* using class [TfidfVectorizer](http://scikit-learn.org/stable/modules/generated/sklearn.feature_extraction.text.TfidfVectorizer.html) from *scikit-learn*. Use *train* corpus to train a vectorizer. Don't forget to take a look into the arguments that you can pass to it. We suggest that you filter out too rare words (occur less than in 5 titles) and too frequent words (occur more than in 90% of the titles). Also, use bigrams along with unigrams in your vocabulary. "
      ]
    },
    {
      "cell_type": "code",
      "metadata": {
        "id": "YqZTISRXBmev",
        "colab_type": "code",
        "colab": {}
      },
      "source": [
        "from sklearn.feature_extraction.text import TfidfVectorizer"
      ],
      "execution_count": 25,
      "outputs": []
    },
    {
      "cell_type": "code",
      "metadata": {
        "id": "he4WbWjzBmex",
        "colab_type": "code",
        "colab": {}
      },
      "source": [
        "def tfidf_features(X_train, X_val, X_test):\n",
        "    \"\"\"\n",
        "        X_train, X_val, X_test — samples        \n",
        "        return TF-IDF vectorized representation of each sample and vocabulary\n",
        "    \"\"\"\n",
        "    # Create TF-IDF vectorizer with a proper parameters choice\n",
        "    # Fit the vectorizer on the train set\n",
        "    # Transform the train, test, and val sets and return the result\n",
        "    \n",
        "    \n",
        "    tfidf_vectorizer = TfidfVectorizer(token_pattern ='(\\S+)' , min_df=5, max_df=0.9, ngram_range=(1, 2))\n",
        "   \n",
        "    ######################################\n",
        "    ######### YOUR CODE HERE #############\n",
        "    ######################################\n",
        "    tfidf_vectorizer.fit(X_train)\n",
        "    X_train = tfidf_vectorizer.transform(X_train)\n",
        "    X_val = tfidf_vectorizer.transform(X_val)\n",
        "    X_test = tfidf_vectorizer.transform(X_test)\n",
        "    \n",
        "    return X_train, X_val, X_test, tfidf_vectorizer.vocabulary_"
      ],
      "execution_count": 85,
      "outputs": []
    },
    {
      "cell_type": "markdown",
      "metadata": {
        "id": "pXxs5enSBme0",
        "colab_type": "text"
      },
      "source": [
        "Once you have done text preprocessing, always have a look at the results. Be very careful at this step, because the performance of future models will drastically depend on it. \n",
        "\n",
        "In this case, check whether you have c++ or c# in your vocabulary, as they are obviously important tokens in our tags prediction task:"
      ]
    },
    {
      "cell_type": "code",
      "metadata": {
        "id": "6jf_-dn6Bme0",
        "colab_type": "code",
        "colab": {
          "base_uri": "https://localhost:8080/",
          "height": 1000
        },
        "outputId": "bbb46321-cd7c-4edd-baf0-f2da70ad271f"
      },
      "source": [
        "X_train_tfidf, X_val_tfidf, X_test_tfidf, tfidf_vocab = tfidf_features(X_train, X_val, X_test)\n",
        "tfidf_reversed_vocab = {i:word for word,i in tfidf_vocab.items()}"
      ],
      "execution_count": 89,
      "outputs": [
        {
          "output_type": "execute_result",
          "data": {
            "text/plain": [
              "{'draw': 4792,\n",
              " 'stacked': 14941,\n",
              " 'r': 12748,\n",
              " 'mysql': 10394,\n",
              " 'select': 14019,\n",
              " 'records': 13008,\n",
              " 'datetime': 4089,\n",
              " 'field': 5815,\n",
              " 'less': 9077,\n",
              " 'specified': 14801,\n",
              " 'value': 17129,\n",
              " 'mysql select': 10426,\n",
              " 'select records': 14054,\n",
              " 'datetime field': 4093,\n",
              " 'terminate': 15706,\n",
              " 'windows': 17849,\n",
              " 'phone': 11715,\n",
              " '81': 243,\n",
              " 'app': 887,\n",
              " 'windows phone': 17871,\n",
              " 'phone 81': 11718,\n",
              " '81 app': 244,\n",
              " 'get': 6669,\n",
              " 'current': 3725,\n",
              " 'time': 15887,\n",
              " 'specific': 14756,\n",
              " 'country': 3531,\n",
              " 'via': 17419,\n",
              " 'jquery': 8651,\n",
              " 'get current': 6700,\n",
              " 'current time': 3742,\n",
              " 'time specific': 15916,\n",
              " 'via jquery': 17433,\n",
              " 'configuring': 3142,\n",
              " 'tomcat': 15979,\n",
              " 'use': 16672,\n",
              " 'ssl': 14927,\n",
              " 'awesome': 1378,\n",
              " 'nested': 10551,\n",
              " 'set': 14326,\n",
              " 'plugin': 11993,\n",
              " 'add': 415,\n",
              " 'new': 10616,\n",
              " 'children': 2590,\n",
              " 'tree': 16059,\n",
              " 'various': 17370,\n",
              " 'levels': 9091,\n",
              " 'add new': 461,\n",
              " 'create': 3554,\n",
              " 'map': 9682,\n",
              " 'json': 8773,\n",
              " 'response': 13398,\n",
              " 'ruby': 13692,\n",
              " 'rails': 12777,\n",
              " '3': 146,\n",
              " 'json response': 8801,\n",
              " 'ruby rails': 13707,\n",
              " 'rails 3': 12779,\n",
              " 'rspec': 13680,\n",
              " 'test': 15713,\n",
              " 'method': 9894,\n",
              " 'called': 2120,\n",
              " 'rspec test': 13683,\n",
              " 'test method': 15723,\n",
              " 'method called': 9904,\n",
              " 'springboot': 14858,\n",
              " 'lifecycle': 9118,\n",
              " 'exception': 5500,\n",
              " 'import': 7662,\n",
              " 'data': 3836,\n",
              " 'excel': 5482,\n",
              " 'database': 3952,\n",
              " 'using': 16801,\n",
              " 'php': 11729,\n",
              " 'import data': 7665,\n",
              " 'data excel': 3866,\n",
              " 'mysql database': 10404,\n",
              " 'database using': 3982,\n",
              " 'using php': 16976,\n",
              " 'obtaining': 11009,\n",
              " 'object': 10886,\n",
              " 'parameterized': 11447,\n",
              " 'type': 16216,\n",
              " 'without': 17920,\n",
              " 'constructing': 3236,\n",
              " 'class': 2628,\n",
              " 'ipad': 8163,\n",
              " 'selecting': 14093,\n",
              " 'text': 15736,\n",
              " 'inside': 7911,\n",
              " 'input': 7827,\n",
              " 'tap': 15645,\n",
              " 'selecting text': 14098,\n",
              " 'text inside': 15760,\n",
              " 'text input': 15759,\n",
              " 'jquerys': 8744,\n",
              " 'function': 6478,\n",
              " 'function object': 6530,\n",
              " 'eclipse': 4957,\n",
              " 'c++': 1976,\n",
              " 'mingw': 10003,\n",
              " 'program': 12343,\n",
              " 'terminated': 15707,\n",
              " 'eclipse c++': 4959,\n",
              " 'javascript': 8461,\n",
              " 'call': 2079,\n",
              " 'one': 11060,\n",
              " 'prototype': 12454,\n",
              " 'another': 779,\n",
              " 'javascript call': 8475,\n",
              " 'call one': 2098,\n",
              " 'prototype method': 12455,\n",
              " 'method another': 9898,\n",
              " 'intersection': 8089,\n",
              " 'list': 9242,\n",
              " 'sets': 14388,\n",
              " 'longer': 9495,\n",
              " 'able': 270,\n",
              " 'hide': 7238,\n",
              " 'keyboard': 8898,\n",
              " 'ios7': 8157,\n",
              " 'fetch': 5804,\n",
              " 'key': 8878,\n",
              " 'swift': 15458,\n",
              " 'json swift': 8809,\n",
              " 'change': 2365,\n",
              " 'pivot': 11941,\n",
              " 'header': 7162,\n",
              " 'template': 15682,\n",
              " '8': 237,\n",
              " 'phone 8': 11717,\n",
              " 'connectionstring': 3195,\n",
              " 'encryption': 5155,\n",
              " 'let': 9082,\n",
              " 'ui': 16299,\n",
              " 'refresh': 13098,\n",
              " 'long': 9485,\n",
              " 'running': 13753,\n",
              " 'operation': 11203,\n",
              " 'long running': 9490,\n",
              " 'better': 1562,\n",
              " 'way': 17598,\n",
              " 'execute': 5536,\n",
              " 'file': 5849,\n",
              " 'python': 12531,\n",
              " 'console': 3204,\n",
              " 'output': 11281,\n",
              " 'run': 13722,\n",
              " 'better way': 1564,\n",
              " 'ruby file': 13702,\n",
              " 'file using': 5989,\n",
              " 'using python': 16989,\n",
              " 'python get': 12575,\n",
              " 'console output': 3209,\n",
              " 'file run': 5962,\n",
              " 'run python': 13745,\n",
              " 'make': 9606,\n",
              " '2': 85,\n",
              " 'thumbnails': 15877,\n",
              " 'codeigniter': 2862,\n",
              " 'java': 8265,\n",
              " 'character': 2445,\n",
              " 'vs': 17540,\n",
              " 'char': 2435,\n",
              " 'memory': 9837,\n",
              " 'usage': 16669,\n",
              " 'memory usage': 9851,\n",
              " 'bootstrap': 1673,\n",
              " 'modal': 10058,\n",
              " 'close': 2792,\n",
              " 'enter': 5187,\n",
              " 'press': 12206,\n",
              " 'bootstrap modal': 1681,\n",
              " 'enter key': 5188,\n",
              " 'key press': 8891,\n",
              " 'linq': 9210,\n",
              " 'query': 12692,\n",
              " 'group': 7061,\n",
              " 'retrieving': 13470,\n",
              " 'percentage': 11678,\n",
              " 'linq query': 9226,\n",
              " 'query group': 12700,\n",
              " 'label': 8942,\n",
              " 'issue': 8189,\n",
              " 'openerp': 11177,\n",
              " 'keep': 8864,\n",
              " 'objects': 10978,\n",
              " 'view': 17456,\n",
              " 'scaling': 13853,\n",
              " 'axis': 1386,\n",
              " 'attributeerror': 1298,\n",
              " 'nonetype': 10722,\n",
              " 'attribute': 1284,\n",
              " 'split': 14818,\n",
              " 'attributeerror nonetype': 1301,\n",
              " 'nonetype object': 10723,\n",
              " 'object attribute': 10892,\n",
              " 'append': 918,\n",
              " 'mat': 9733,\n",
              " 'replace': 13272,\n",
              " 'onclick': 11049,\n",
              " 'jquery replace': 8719,\n",
              " 'redirect': 13033,\n",
              " 'programme': 12366,\n",
              " 'redirect output': 13041,\n",
              " 'accesscontrolalloworigin': 340,\n",
              " 'present': 12201,\n",
              " 'requested': 13336,\n",
              " 'resource': 13381,\n",
              " 'error': 5249,\n",
              " 'accesscontrolalloworigin header': 341,\n",
              " 'requested resource': 13337,\n",
              " 'creating': 3614,\n",
              " 'c#': 1879,\n",
              " 'cannot': 2158,\n",
              " 'implicitly': 7659,\n",
              " 'convert': 3359,\n",
              " 'string': 15127,\n",
              " 'creating json': 3627,\n",
              " 'windows 8': 17852,\n",
              " '8 c#': 239,\n",
              " 'c# using': 1958,\n",
              " 'cannot implicitly': 2180,\n",
              " 'implicitly convert': 7660,\n",
              " 'convert type': 3413,\n",
              " 'type string': 16259,\n",
              " 'django': 4629,\n",
              " 'modelform': 10095,\n",
              " 'django modelform': 4647,\n",
              " 'show': 14452,\n",
              " 'div': 4596,\n",
              " 'slide': 14610,\n",
              " 'show hide': 14462,\n",
              " 'hide div': 7240,\n",
              " 'div slide': 4616,\n",
              " 'javascript without': 8578,\n",
              " 'without jquery': 17942,\n",
              " 'avoid': 1372,\n",
              " 'busy': 1791,\n",
              " 'laravel': 8960,\n",
              " '4': 177,\n",
              " 'returns': 13535,\n",
              " 'ajax': 569,\n",
              " 'post': 12119,\n",
              " 'laravel 4': 8961,\n",
              " 'data ajax': 3838,\n",
              " 'ajax post': 588,\n",
              " 'handle': 7108,\n",
              " 'jquery ajax': 8655,\n",
              " 'year': 18256,\n",
              " 'function r': 6542,\n",
              " 'retrofit': 13474,\n",
              " 'singleton': 14572,\n",
              " 'gson': 7073,\n",
              " 'using gson': 16889,\n",
              " 'cpp': 3539,\n",
              " 'mfc': 9979,\n",
              " 'copying': 3466,\n",
              " 'web': 17667,\n",
              " 'reference': 13066,\n",
              " 'project': 12379,\n",
              " 'web reference': 17684,\n",
              " 'new project': 10636,\n",
              " 'top': 15995,\n",
              " 'five': 6186,\n",
              " 'query select': 12716,\n",
              " 'insert': 7874,\n",
              " 'index': 7731,\n",
              " 'insert string': 7895,\n",
              " 'string specific': 15229,\n",
              " 'apache': 839,\n",
              " 'poi': 12010,\n",
              " 'page': 11341,\n",
              " 'format': 6350,\n",
              " 'worksheet': 18064,\n",
              " 'apache poi': 847,\n",
              " 'change page': 2400,\n",
              " 'excel worksheet': 5497,\n",
              " 'tkinter': 15952,\n",
              " 'progress': 12375,\n",
              " 'bar': 1439,\n",
              " 'python tkinter': 12641,\n",
              " 'progress bar': 12376,\n",
              " 'store': 15070,\n",
              " 'image': 7538,\n",
              " 'path': 11609,\n",
              " 'store image': 15076,\n",
              " 'image path': 7588,\n",
              " 'using c#': 16827,\n",
              " 'jdbc': 8595,\n",
              " 'connection': 3176,\n",
              " 'associated': 1247,\n",
              " 'managed': 9651,\n",
              " 'jdbc connection': 8596,\n",
              " 'connection error': 3182,\n",
              " 'multiple': 10236,\n",
              " 'tables': 15602,\n",
              " 'model': 10068,\n",
              " 'yii2': 18267,\n",
              " 'use multiple': 16712,\n",
              " 'multiple tables': 10313,\n",
              " 'tables one': 15605,\n",
              " 'one model': 11095,\n",
              " 'controller': 3327,\n",
              " 'names': 10490,\n",
              " 'aspnet': 1185,\n",
              " 'mvc4': 10386,\n",
              " 'aspnet mvc4': 1203,\n",
              " 'casting': 2290,\n",
              " 'integer': 8017,\n",
              " 'array': 1016,\n",
              " 'integer array': 8018,\n",
              " 'array object': 1088,\n",
              " 'object array': 10890,\n",
              " 'array java': 1072,\n",
              " 'getting': 6865,\n",
              " 'uploading': 16617,\n",
              " 'getting error': 6874,\n",
              " 'error uploading': 5375,\n",
              " 'uploading file': 16618,\n",
              " 'file php': 5949,\n",
              " 'clear': 2728,\n",
              " 'methods': 9967,\n",
              " 'methods java': 9970,\n",
              " 'printing': 12271,\n",
              " 'floats': 6227,\n",
              " 'number': 10816,\n",
              " 'zeros': 18284,\n",
              " 'specific number': 14781,\n",
              " 'simple': 14511,\n",
              " 'c': 1853,\n",
              " 'network': 10604,\n",
              " 'library': 9101,\n",
              " 'simple c': 14514,\n",
              " 'c c++': 1855,\n",
              " 'usr': 17068,\n",
              " 'bin': 1576,\n",
              " 'instead': 7993,\n",
              " 'local': 9402,\n",
              " 'running ruby': 13769,\n",
              " 'usr bin': 17069,\n",
              " 'usr local': 17070,\n",
              " 'bitmap': 1609,\n",
              " 'binary': 1578,\n",
              " 'operations': 11206,\n",
              " 'default': 4191,\n",
              " 'mail': 9578,\n",
              " 'working': 18029,\n",
              " 'entity': 5198,\n",
              " 'framework': 6416,\n",
              " 'distinct': 4588,\n",
              " 'entity framework': 5202,\n",
              " 'framework model': 6430,\n",
              " 'extjs': 5693,\n",
              " 'checked': 2550,\n",
              " 'nodes': 10709,\n",
              " 'submit': 15347,\n",
              " 'get checked': 6687,\n",
              " 'lists': 9316,\n",
              " 'linq select': 9227,\n",
              " 'nested lists': 10565,\n",
              " 'element': 5020,\n",
              " 'pass': 11530,\n",
              " 'values': 17240,\n",
              " 'html': 7320,\n",
              " 'hide element': 7242,\n",
              " 'pass values': 11558,\n",
              " 'values javascript': 17269,\n",
              " 'javascript html': 8515,\n",
              " 'html element': 7339,\n",
              " 'element using': 5044,\n",
              " 'using javascript': 16910,\n",
              " 'javascript jquery': 8522,\n",
              " 'information': 7775,\n",
              " 'dictionary': 4388,\n",
              " 'get information': 6738,\n",
              " 'slidetoggle': 14614,\n",
              " 'display': 4531,\n",
              " 'created': 3607,\n",
              " 'opencv': 11170,\n",
              " 'android': 703,\n",
              " 'display image': 4543,\n",
              " 'instantiating': 7990,\n",
              " 'namespace': 10491,\n",
              " 'wpf': 18075,\n",
              " 'screen': 13897,\n",
              " 'resolution': 13371,\n",
              " 'screen resolution': 13899,\n",
              " 'content': 3275,\n",
              " 'static': 14994,\n",
              " 'table': 15565,\n",
              " 'cell': 2321,\n",
              " 'displayed': 4572,\n",
              " 'ios': 8137,\n",
              " '9': 246,\n",
              " 'table view': 15600,\n",
              " 'view cell': 17462,\n",
              " 'ios 9': 8143,\n",
              " 'best': 1549,\n",
              " 'autocomplete': 1336,\n",
              " 'suggest': 15403,\n",
              " 'algorithm': 611,\n",
              " 'datastructure': 4032,\n",
              " 'c++ c': 1982,\n",
              " 'backbone': 1402,\n",
              " 'modelsave': 10099,\n",
              " 'sending': 14157,\n",
              " 'put': 12508,\n",
              " 'redirects': 13054,\n",
              " 'given': 6916,\n",
              " 'session': 14301,\n",
              " 'chrome': 2600,\n",
              " 'session php': 14314,\n",
              " 'mvc': 10358,\n",
              " 'razor': 12881,\n",
              " 'missing': 10020,\n",
              " 'collections': 2895,\n",
              " 'form': 6291,\n",
              " 'mvc 4': 10362,\n",
              " '4 razor': 181,\n",
              " 'form post': 6324,\n",
              " 'date': 4044,\n",
              " 'ddmmyyyy': 4130,\n",
              " 'style': 15318,\n",
              " 'dynamically': 4907,\n",
              " 'linkbutton': 9194,\n",
              " 'affecting': 557,\n",
              " 'others': 11270,\n",
              " 'change style': 2408,\n",
              " 'dynamically created': 4918,\n",
              " 'check': 2486,\n",
              " 'point': 12014,\n",
              " 'line': 9137,\n",
              " 'client': 2766,\n",
              " 'request': 13308,\n",
              " 'fails': 5770,\n",
              " 'timeout': 15928,\n",
              " 'simultaneously': 14546,\n",
              " 'acquire': 366,\n",
              " 'update': 16554,\n",
              " 'graph': 7016,\n",
              " 'matplotlib': 9755,\n",
              " 'data update': 3939,\n",
              " 'graph using': 7019,\n",
              " 'python matplotlib': 12597,\n",
              " 'store value': 15082,\n",
              " 'value string': 17220,\n",
              " 'string array': 15132,\n",
              " 'datatable': 4033,\n",
              " 'inner': 7820,\n",
              " 'join': 8625,\n",
              " 'dynamic': 4871,\n",
              " 'columns': 2951,\n",
              " 'c# datatable': 1904,\n",
              " 'inner join': 7824,\n",
              " 'dynamic columns': 4877,\n",
              " 'correct': 3477,\n",
              " 'adapter': 413,\n",
              " 'pattern': 11628,\n",
              " 'objective': 10968,\n",
              " 'objective c': 10969,\n",
              " 'save': 13810,\n",
              " 'folder': 6241,\n",
              " 'save image': 13819,\n",
              " 'image another': 7541,\n",
              " 'another folder': 796,\n",
              " 'folder using': 6251,\n",
              " 'using ajax': 16804,\n",
              " 'ajax jquery': 581,\n",
              " 'use function': 16696,\n",
              " 'ignore': 7516,\n",
              " 'rows': 13655,\n",
              " 'sorting': 14718,\n",
              " 'specific rows': 14790,\n",
              " 'dom': 4725,\n",
              " 'angular': 740,\n",
              " 'directive': 4475,\n",
              " 'dom element': 4726,\n",
              " 'angular directive': 744,\n",
              " 'rectangles': 13017,\n",
              " 'next': 10664,\n",
              " 'parameters': 11450,\n",
              " 'url': 16631,\n",
              " 'zend': 18280,\n",
              " 'parameters url': 11457,\n",
              " 'inheritance': 7779,\n",
              " 'access': 298,\n",
              " 'problem': 12293,\n",
              " 'inner class': 7821,\n",
              " 'valueerror': 17238,\n",
              " 'match': 9734,\n",
              " 'passing': 11570,\n",
              " 'sockets': 14674,\n",
              " 'passing array': 11574,\n",
              " 'array json': 1075,\n",
              " 'json objects': 8792,\n",
              " 'child': 2572,\n",
              " 'deserializing': 4309,\n",
              " 'xml': 18192,\n",
              " 'child nodes': 2579,\n",
              " 'deserializing xml': 4311,\n",
              " 'xml object': 18212,\n",
              " 'version': 17403,\n",
              " 'application': 940,\n",
              " 'executable': 5533,\n",
              " 'contains': 3267,\n",
              " 'unsupported': 16543,\n",
              " 'architecture': 983,\n",
              " 'i386': 7442,\n",
              " 'app version': 907,\n",
              " 'architecture i386': 984,\n",
              " 'com': 2963,\n",
              " 'array using': 1115,\n",
              " 'using com': 16840,\n",
              " 'urlopen': 16662,\n",
              " 'errno': 5246,\n",
              " '10061': 52,\n",
              " 'error errno': 5293,\n",
              " 'unique': 16470,\n",
              " 'combination': 2966,\n",
              " 'bind': 1589,\n",
              " 'drop': 4816,\n",
              " 'first': 6159,\n",
              " 'ddl': 4129,\n",
              " 'drop list': 4819,\n",
              " 'list using': 9295,\n",
              " 'using jquery': 16916,\n",
              " 'change first': 2382,\n",
              " '31': 158,\n",
              " 'encrypted': 5152,\n",
              " 'gem': 6615,\n",
              " 'clause': 2718,\n",
              " 'fields': 5836,\n",
              " 'rails 31': 12781,\n",
              " 'hack': 7101,\n",
              " 'google': 6968,\n",
              " 'maps': 9701,\n",
              " 'api': 853,\n",
              " 'generate': 6624,\n",
              " 'city': 2623,\n",
              " 'state': 14980,\n",
              " 'name': 10457,\n",
              " 'php mysql': 11820,\n",
              " 'google maps': 6981,\n",
              " 'maps api': 9702,\n",
              " 'city state': 2624,\n",
              " 'unknown': 16495,\n",
              " 'target': 15648,\n",
              " 'property': 12414,\n",
              " 'applet': 936,\n",
              " 'mac': 9556,\n",
              " 'os': 11263,\n",
              " 'run java': 13736,\n",
              " 'java applet': 8277,\n",
              " 'mac os': 9558,\n",
              " 'latitude': 9019,\n",
              " 'longitude': 9499,\n",
              " 'latitude longitude': 9020,\n",
              " 'mouseout': 10168,\n",
              " 'listener': 9309,\n",
              " 'wordpress': 17990,\n",
              " 'google map': 6980,\n",
              " 'find': 6068,\n",
              " 'row': 13621,\n",
              " 'quickly': 12740,\n",
              " 'find row': 6111,\n",
              " 'iphone': 8166,\n",
              " 'command': 2990,\n",
              " 'terminal': 15705,\n",
              " 'return': 13476,\n",
              " 'matrix': 9759,\n",
              " 'need': 10533,\n",
              " 'transpose': 16051,\n",
              " 'attach': 1269,\n",
              " 'dataframe': 3995,\n",
              " 'parent': 11461,\n",
              " 'programmatically': 12357,\n",
              " 'd3': 3824,\n",
              " 'js': 8748,\n",
              " 'tick': 15879,\n",
              " 'spacing': 14741,\n",
              " 'gets': 6860,\n",
              " 'messed': 9886,\n",
              " 'month': 10144,\n",
              " 'boundary': 1699,\n",
              " 'hash': 7141,\n",
              " 'object javascript': 10921,\n",
              " 'set timeout': 14377,\n",
              " 'user': 16749,\n",
              " 'fit': 6183,\n",
              " 'needs': 10542,\n",
              " 'change default': 2377,\n",
              " 'user model': 16773,\n",
              " 'serializing': 14221,\n",
              " 'automatically': 1354,\n",
              " 'install': 7954,\n",
              " 'firefox': 6150,\n",
              " 'navbar': 10515,\n",
              " 'auto': 1324,\n",
              " 'layout': 9027,\n",
              " 'constraints': 3233,\n",
              " 'interactive': 8051,\n",
              " 'interface': 8056,\n",
              " 'builder': 1773,\n",
              " 'auto layout': 1330,\n",
              " 'interface builder': 8058,\n",
              " 'kill': 8921,\n",
              " 'process': 12309,\n",
              " 'system': 15520,\n",
              " 'shell': 14432,\n",
              " 'child process': 2584,\n",
              " 'process running': 12317,\n",
              " 'shell command': 14433,\n",
              " 'setting': 14395,\n",
              " 'timezone': 15941,\n",
              " 'cant': 2208,\n",
              " 'recent': 12984,\n",
              " 'cant update': 2238,\n",
              " 'facebook': 5717,\n",
              " 'help': 7194,\n",
              " 'dialog': 4378,\n",
              " 'event': 5418,\n",
              " 'load': 9348,\n",
              " 'browsers': 1753,\n",
              " 'jquery event': 8685,\n",
              " 'event listener': 5436,\n",
              " 'image load': 7579,\n",
              " 'intellij': 8042,\n",
              " 'constant': 3221,\n",
              " 'expression': 5643,\n",
              " 'required': 13345,\n",
              " 'case': 2276,\n",
              " 'android java': 719,\n",
              " 'constant expression': 3224,\n",
              " 'dropdown': 4825,\n",
              " 'based': 1465,\n",
              " 'entries': 5208,\n",
              " 'dropdown select': 4831,\n",
              " 'select based': 14021,\n",
              " 'based database': 1473,\n",
              " 'wont': 17972,\n",
              " 'work': 18004,\n",
              " 'machine': 9560,\n",
              " 'wont work': 17979,\n",
              " 'local machine': 9409,\n",
              " 'pyqt': 12526,\n",
              " 'display data': 4536,\n",
              " 'data mysql': 3897,\n",
              " 'database table': 3979,\n",
              " 'table using': 15597,\n",
              " 'addeventlistener': 485,\n",
              " 'send': 14126,\n",
              " 'thread': 15836,\n",
              " 'send data': 14130,\n",
              " 'data specific': 3926,\n",
              " 'focus': 6236,\n",
              " 'listviewitem': 9332,\n",
              " 'documentgetelementbyid': 4694,\n",
              " 'innerhtml': 7825,\n",
              " 'ie8': 7496,\n",
              " 'working ie8': 18043,\n",
              " 'efficient': 5001,\n",
              " 'int': 7998,\n",
              " 'inverse': 8120,\n",
              " 'convert string': 3406,\n",
              " 'string int': 15188,\n",
              " 'edit': 4978,\n",
              " 'txt': 16214,\n",
              " 'specific line': 14778,\n",
              " 'line txt': 9163,\n",
              " 'txt file': 16215,\n",
              " 'file c': 5867,\n",
              " 'conditionally': 3126,\n",
              " 'filter': 6054,\n",
              " 'iqueryable': 8179,\n",
              " 'generic': 6646,\n",
              " 'repository': 13301,\n",
              " 'type using': 16266,\n",
              " 'using generic': 16877,\n",
              " 'generic repository': 6657,\n",
              " 'repository pattern': 13302,\n",
              " 'get memory': 6762,\n",
              " 'rails app': 12790,\n",
              " 'invalid': 8098,\n",
              " 'indirect': 7759,\n",
              " 'trying': 16110,\n",
              " 'trying convert': 16116,\n",
              " 'c++ java': 2009,\n",
              " 'record': 13002,\n",
              " 'insert multiple': 7886,\n",
              " 'record table': 13005,\n",
              " 'table codeigniter': 15571,\n",
              " 'sql': 14869,\n",
              " 'convert sql': 3404,\n",
              " 'sql query': 14886,\n",
              " 'query linq': 12704,\n",
              " 'password': 11597,\n",
              " 'prompt': 12398,\n",
              " 'regex': 13113,\n",
              " 'needed': 10541,\n",
              " 'dynamic string': 4894,\n",
              " 'string value': 15242,\n",
              " 'play': 11965,\n",
              " 'videos': 17454,\n",
              " 'website': 17733,\n",
              " 'best way': 1559,\n",
              " 'reading': 12941,\n",
              " 'stdin': 15036,\n",
              " 'blocking': 1638,\n",
              " 'reading line': 12949,\n",
              " 'line line': 9156,\n",
              " 'without blocking': 17924,\n",
              " 'video': 17444,\n",
              " 'old': 11040,\n",
              " 'rest': 13414,\n",
              " 'rest api': 13415,\n",
              " 'comma': 2986,\n",
              " 'separated': 14186,\n",
              " 'collection': 2888,\n",
              " 'spring': 14831,\n",
              " 'comma separated': 2988,\n",
              " 'separated string': 14190,\n",
              " 'string java': 15191,\n",
              " 'java collection': 8295,\n",
              " 'spring form': 14846,\n",
              " 'checking': 2558,\n",
              " 'member': 9823,\n",
              " 'struct': 15277,\n",
              " 'c struct': 1874,\n",
              " 'struct array': 15278,\n",
              " 'gridview': 7045,\n",
              " 'export': 5629,\n",
              " 'gridview data': 7050,\n",
              " 'export excel': 5632,\n",
              " 'tinymce': 15944,\n",
              " 'player': 11976,\n",
              " 'media': 9814,\n",
              " 'splash': 14815,\n",
              " 'accepts': 294,\n",
              " 'class use': 2693,\n",
              " 'use spring': 16732,\n",
              " 'csv': 3698,\n",
              " 'stringsplit': 15264,\n",
              " 'due': 4850,\n",
              " 'blank': 1622,\n",
              " 'import csv': 7664,\n",
              " 'csv file': 3700,\n",
              " 'li': 9093,\n",
              " 'ngmodel': 10680,\n",
              " 'start': 14964,\n",
              " 'blackberry': 1620,\n",
              " 'programming': 12368,\n",
              " 'searching': 13982,\n",
              " 'sdk': 13957,\n",
              " 'quick': 12736,\n",
              " 'iphone sdk': 8171,\n",
              " 'directory': 4481,\n",
              " 'c# get': 1922,\n",
              " 'directory name': 4488,\n",
              " 'column': 2919,\n",
              " 'odd': 11030,\n",
              " 'even': 5413,\n",
              " 'numbers': 10853,\n",
              " 'threads': 15852,\n",
              " 'odd even': 11031,\n",
              " 'even numbers': 5414,\n",
              " 'numbers using': 10865,\n",
              " 'using 2': 16802,\n",
              " 'alternatives': 668,\n",
              " 'projects': 12395,\n",
              " 'similar': 14509,\n",
              " 'joomla': 8636,\n",
              " 'drupal': 4844,\n",
              " 'assign': 1235,\n",
              " 'variable': 17300,\n",
              " 'properties': 12408,\n",
              " 'c# dynamic': 1911,\n",
              " 'dynamic variable': 4903,\n",
              " 'dynamic object': 4893,\n",
              " 'get parameters': 6777,\n",
              " 'field value': 5833,\n",
              " 'value object': 17198,\n",
              " 'another object': 804,\n",
              " 'accessing': 345,\n",
              " 'global': 6933,\n",
              " 'onclicklistener': 11057,\n",
              " 'accessing global': 347,\n",
              " 'global variable': 6938,\n",
              " 'variable inside': 17318,\n",
              " 'argument': 993,\n",
              " 'uml': 16361,\n",
              " 'argument list': 997,\n",
              " 'preg_replace': 12186,\n",
              " 'curly': 3720,\n",
              " 'brackets': 1720,\n",
              " '323': 164,\n",
              " 'bundler': 1786,\n",
              " 'could': 3493,\n",
              " 'compatible': 3041,\n",
              " 'versions': 17412,\n",
              " 'rails 323': 12783,\n",
              " 'could find': 3501,\n",
              " 'exe': 5529,\n",
              " 'c# windows': 1965,\n",
              " 'windows form': 17864,\n",
              " 'junit': 8848,\n",
              " 'report': 13293,\n",
              " 'task': 15652,\n",
              " 'facebooks': 5736,\n",
              " 'sms': 14633,\n",
              " 'broadcast': 1733,\n",
              " 'receiver': 12980,\n",
              " 'takes': 15637,\n",
              " 'highest': 7257,\n",
              " 'priority': 12278,\n",
              " 'reboot': 12973,\n",
              " 'length': 9069,\n",
              " '0': 25,\n",
              " 'bypass': 1842,\n",
              " 'clientside': 2782,\n",
              " 'validation': 17110,\n",
              " 'clientside validation': 2783,\n",
              " 'rvm': 13787,\n",
              " 'installation': 7963,\n",
              " 'ubuntu': 16290,\n",
              " 'installation error': 7964,\n",
              " 'error ubuntu': 5367,\n",
              " 'trigger': 16078,\n",
              " 'carousel': 2266,\n",
              " 'trigger event': 16081,\n",
              " 'bootstrap carousel': 1676,\n",
              " 'proxy': 12465,\n",
              " 'configuration': 3133,\n",
              " 'unable': 16362,\n",
              " 'redirecttoaction': 13055,\n",
              " 'cant get': 2222,\n",
              " 'iterators': 8237,\n",
              " 'incompatible': 7707,\n",
              " 'destruction': 4326,\n",
              " 'dependent': 4278,\n",
              " 'constructor': 3238,\n",
              " 'constructor call': 3239,\n",
              " 'bad': 1429,\n",
              " 'input line': 7849,\n",
              " 'symfony2': 15494,\n",
              " 'forms': 6381,\n",
              " 'options': 11231,\n",
              " 'use dynamic': 16691,\n",
              " 'select options': 14051,\n",
              " 'notfoundhttpexception': 10751,\n",
              " 'submission': 15346,\n",
              " 'handling': 7122,\n",
              " 'validation multiple': 17120,\n",
              " 'multiple forms': 10263,\n",
              " 'triggers': 16087,\n",
              " 'oracle': 11234,\n",
              " 'mongoose': 10138,\n",
              " 'callback': 2114,\n",
              " 'access specific': 327,\n",
              " 'specific value': 14796,\n",
              " 'well': 17767,\n",
              " 'updating': 16587,\n",
              " 'models': 10096,\n",
              " '5': 203,\n",
              " 'canvas': 2241,\n",
              " 'issues': 8193,\n",
              " 'html 5': 7321,\n",
              " 'comparison': 3038,\n",
              " 'variables': 17346,\n",
              " 'pointing': 12036,\n",
              " 'parse': 11480,\n",
              " 'parse json': 11486,\n",
              " 'json data': 8777,\n",
              " 'data php': 3904,\n",
              " 'possible': 12102,\n",
              " 'jump': 8846,\n",
              " 'top page': 16000,\n",
              " 'page form': 11355,\n",
              " 'form submit': 6331,\n",
              " 'safely': 13799,\n",
              " 'destroy': 4324,\n",
              " 'window': 17820,\n",
              " 'wxpython': 18146,\n",
              " 'includes': 7703,\n",
              " 'systems': 15548,\n",
              " 'php includes': 11798,\n",
              " 'managepy': 9654,\n",
              " 'runserver': 13777,\n",
              " 'managepy runserver': 9655,\n",
              " 'saving': 13832,\n",
              " 'frames': 6415,\n",
              " 'saving multiple': 13840,\n",
              " 'multiple data': 10252,\n",
              " 'data frames': 3873,\n",
              " 'return function': 13488,\n",
              " 'compilation': 3042,\n",
              " 'found': 6398,\n",
              " 'compilation error': 3043,\n",
              " 'error type': 5365,\n",
              " 'type namespace': 16249,\n",
              " 'namespace name': 10493,\n",
              " 'could found': 3502,\n",
              " 'parsecom': 11490,\n",
              " 'libgdx': 9097,\n",
              " 'implementation': 7648,\n",
              " 'iframe': 7503,\n",
              " 'position': 12090,\n",
              " 'adding': 487,\n",
              " 'javascript adding': 8465,\n",
              " 'adding text': 508,\n",
              " 'text image': 15758,\n",
              " 'image using': 7613,\n",
              " 'using canvas': 16831,\n",
              " 'save value': 13825,\n",
              " 'value drop': 17161,\n",
              " 'calculate': 2062,\n",
              " 'correlation': 3483,\n",
              " 'remove': 13195,\n",
              " 'ones': 11126,\n",
              " 'pandas': 11406,\n",
              " 'python pandas': 12611,\n",
              " 'optimizations': 11219,\n",
              " 'browser': 1738,\n",
              " 'perform': 11682,\n",
              " 'rendered': 13256,\n",
              " 'denied': 4267,\n",
              " 'service': 14270,\n",
              " 'delegate': 4227,\n",
              " 'mail client': 9581,\n",
              " 'client using': 2778,\n",
              " 'count': 3516,\n",
              " 'datagridview': 4010,\n",
              " 'values column': 17250,\n",
              " 'column datagridview': 2929,\n",
              " 'datagridview column': 4014,\n",
              " 'scipy': 13881,\n",
              " 'build': 1767,\n",
              " 'osx': 11268,\n",
              " 'mac osx': 9559,\n",
              " 'ip': 8160,\n",
              " 'address': 514,\n",
              " 'mask': 9725,\n",
              " 'textbox': 15794,\n",
              " 'ip address': 8161,\n",
              " 'vbnet': 17378,\n",
              " 'commands': 3004,\n",
              " 'java library': 8345,\n",
              " 'selected': 14070,\n",
              " 'codebehind': 2856,\n",
              " 'get selected': 6808,\n",
              " 'selected value': 14086,\n",
              " 'value text': 17222,\n",
              " 'text html': 15757,\n",
              " 'html select': 7363,\n",
              " 'restrict': 13434,\n",
              " 'jqgrid': 8650,\n",
              " 'textarea': 15789,\n",
              " 'height': 7183,\n",
              " 'grid': 7036,\n",
              " 'swift 3': 15461,\n",
              " 'editor': 4988,\n",
              " 'serialization': 14210,\n",
              " 'xml serialization': 18220,\n",
              " 'extend': 5661,\n",
              " 'java class': 8291,\n",
              " 'class one': 2678,\n",
              " 'exceptions': 5520,\n",
              " 'guidelines': 7091,\n",
              " 'understand': 16432,\n",
              " 'testng': 15732,\n",
              " 'suite': 15408,\n",
              " 'configure': 3140,\n",
              " 'webpage': 17722,\n",
              " 'excel data': 5487,\n",
              " 'parameter': 11427,\n",
              " 'owin': 11326,\n",
              " 'host': 7288,\n",
              " 'pass parameter': 11550,\n",
              " 'saved': 13829,\n",
              " 'rake': 12834,\n",
              " 'errors': 5386,\n",
              " 'loading': 9386,\n",
              " 'kind': 8925,\n",
              " 'mutex': 10355,\n",
              " 'calculation': 2074,\n",
              " 'entities': 5195,\n",
              " 'linq entities': 9214,\n",
              " 'entities query': 5196,\n",
              " 'difference': 4408,\n",
              " 'cocos2dx': 2823,\n",
              " 'lua': 9546,\n",
              " 'binding': 1594,\n",
              " 'reset': 13357,\n",
              " 'angularjs': 752,\n",
              " 'verify': 17400,\n",
              " 'box': 1705,\n",
              " 'clicked': 2757,\n",
              " 'check box': 2488,\n",
              " 'structure': 15286,\n",
              " 'pointer': 12018,\n",
              " ...}"
            ]
          },
          "metadata": {
            "tags": []
          },
          "execution_count": 89
        }
      ]
    },
    {
      "cell_type": "code",
      "metadata": {
        "id": "ZrShkHVKBme2",
        "colab_type": "code",
        "colab": {
          "base_uri": "https://localhost:8080/",
          "height": 67
        },
        "outputId": "0c829706-c9ed-40bb-8d7d-3844b394a361"
      },
      "source": [
        "######### YOUR CODE HERE #############\n",
        "print('c++' in tfidf_vocab)\n",
        "print('c#' in tfidf_vocab)\n",
        "print('javascript' in tfidf_vocab)"
      ],
      "execution_count": 87,
      "outputs": [
        {
          "output_type": "stream",
          "text": [
            "True\n",
            "True\n",
            "True\n"
          ],
          "name": "stdout"
        }
      ]
    },
    {
      "cell_type": "markdown",
      "metadata": {
        "id": "cCEOFWqbBme4",
        "colab_type": "text"
      },
      "source": [
        "If you can't find it, we need to understand how did it happen that we lost them? It happened during the built-in tokenization of TfidfVectorizer. Luckily, we can influence on this process. Get back to the function above and use '(\\S+)' regexp as a *token_pattern* in the constructor of the vectorizer.  "
      ]
    },
    {
      "cell_type": "markdown",
      "metadata": {
        "id": "JIw0d8CwBme5",
        "colab_type": "text"
      },
      "source": [
        "Now, use this transormation for the data and check again."
      ]
    },
    {
      "cell_type": "code",
      "metadata": {
        "id": "Ilz142MwBme5",
        "colab_type": "code",
        "colab": {
          "base_uri": "https://localhost:8080/",
          "height": 67
        },
        "outputId": "c513b24e-523c-41c1-b0f9-633dff6831ff"
      },
      "source": [
        "######### YOUR CODE HERE #############\n",
        "print('c' in tfidf_vocab)\n",
        "print('c#' in tfidf_vocab)\n",
        "print('javascript' in tfidf_vocab)"
      ],
      "execution_count": 88,
      "outputs": [
        {
          "output_type": "stream",
          "text": [
            "True\n",
            "True\n",
            "True\n"
          ],
          "name": "stdout"
        }
      ]
    },
    {
      "cell_type": "markdown",
      "metadata": {
        "id": "68A0Ml8RBme7",
        "colab_type": "text"
      },
      "source": [
        "### MultiLabel classifier\n",
        "\n",
        "As we have noticed before, in this task each example can have multiple tags. To deal with such kind of prediction, we need to transform labels in a binary form and the prediction will be a mask of 0s and 1s. For this purpose it is convenient to use [MultiLabelBinarizer](http://scikit-learn.org/stable/modules/generated/sklearn.preprocessing.MultiLabelBinarizer.html) from *sklearn*."
      ]
    },
    {
      "cell_type": "code",
      "metadata": {
        "id": "K2P0c22bBme7",
        "colab_type": "code",
        "colab": {}
      },
      "source": [
        "from sklearn.preprocessing import MultiLabelBinarizer"
      ],
      "execution_count": 30,
      "outputs": []
    },
    {
      "cell_type": "code",
      "metadata": {
        "id": "mLHElCOBBme-",
        "colab_type": "code",
        "colab": {}
      },
      "source": [
        "mlb = MultiLabelBinarizer(classes=sorted(tags_counts.keys()))\n",
        "y_train = mlb.fit_transform(y_train)\n",
        "y_val = mlb.fit_transform(y_val)"
      ],
      "execution_count": 31,
      "outputs": []
    },
    {
      "cell_type": "code",
      "metadata": {
        "id": "0T6wASnSXBM1",
        "colab_type": "code",
        "colab": {
          "base_uri": "https://localhost:8080/",
          "height": 101
        },
        "outputId": "f2d003d5-8161-4724-bce8-387daa251118"
      },
      "source": [
        "y_train[1]"
      ],
      "execution_count": 36,
      "outputs": [
        {
          "output_type": "execute_result",
          "data": {
            "text/plain": [
              "array([0, 0, 0, 0, 0, 0, 0, 0, 0, 0, 0, 0, 0, 0, 0, 0, 0, 0, 0, 0, 0, 0,\n",
              "       0, 0, 0, 0, 0, 0, 0, 0, 0, 0, 0, 0, 0, 0, 0, 0, 0, 0, 0, 0, 0, 0,\n",
              "       0, 0, 0, 0, 0, 0, 1, 0, 0, 0, 0, 0, 0, 0, 0, 0, 1, 0, 0, 0, 0, 0,\n",
              "       0, 0, 0, 0, 0, 0, 0, 0, 0, 0, 0, 0, 0, 0, 0, 0, 0, 0, 0, 0, 0, 0,\n",
              "       0, 0, 0, 0, 0, 0, 0, 0, 0, 0, 0, 0])"
            ]
          },
          "metadata": {
            "tags": []
          },
          "execution_count": 36
        }
      ]
    },
    {
      "cell_type": "markdown",
      "metadata": {
        "id": "xgrDSPa_BmfA",
        "colab_type": "text"
      },
      "source": [
        "Implement the function *train_classifier* for training a classifier. In this task we suggest to use One-vs-Rest approach, which is implemented in [OneVsRestClassifier](http://scikit-learn.org/stable/modules/generated/sklearn.multiclass.OneVsRestClassifier.html) class. In this approach *k* classifiers (= number of tags) are trained. As a basic classifier, use [LogisticRegression](http://scikit-learn.org/stable/modules/generated/sklearn.linear_model.LogisticRegression.html). It is one of the simplest methods, but often it performs good enough in text classification tasks. It might take some time, because a number of classifiers to train is large."
      ]
    },
    {
      "cell_type": "code",
      "metadata": {
        "id": "R0tTHI8kBmfB",
        "colab_type": "code",
        "colab": {}
      },
      "source": [
        "from sklearn.multiclass import OneVsRestClassifier\n",
        "from sklearn.linear_model import LogisticRegression, RidgeClassifier"
      ],
      "execution_count": 32,
      "outputs": []
    },
    {
      "cell_type": "code",
      "metadata": {
        "id": "Yg6LBqF_BmfC",
        "colab_type": "code",
        "colab": {}
      },
      "source": [
        "def train_classifier(X_train, y_train):\n",
        "    \"\"\"\n",
        "      X_train, y_train — training data\n",
        "      \n",
        "      return: trained classifier\n",
        "    \"\"\"\n",
        "    \n",
        "    # Create and fit LogisticRegression wraped into OneVsRestClassifier.\n",
        "\n",
        "    ######################################\n",
        "    ######### YOUR CODE HERE #############\n",
        "    ###################################### \n",
        "    clf = OneVsRestClassifier(LogisticRegression(C=3,penalty='l1',solver='liblinear',max_iter=1000000)).fit(X_train, y_train)\n",
        "    return clf\n"
      ],
      "execution_count": 68,
      "outputs": []
    },
    {
      "cell_type": "markdown",
      "metadata": {
        "id": "Bi1ZvZwSBmfE",
        "colab_type": "text"
      },
      "source": [
        "Train the classifiers for different data transformations: *bag-of-words* and *tf-idf*."
      ]
    },
    {
      "cell_type": "code",
      "metadata": {
        "id": "eZxMiKkJBmfE",
        "colab_type": "code",
        "colab": {}
      },
      "source": [
        "classifier_mybag = train_classifier(X_train_mybag, y_train)\n",
        "classifier_tfidf = train_classifier(X_train_tfidf, y_train)"
      ],
      "execution_count": 69,
      "outputs": []
    },
    {
      "cell_type": "markdown",
      "metadata": {
        "id": "i6ZYVGcTBmfK",
        "colab_type": "text"
      },
      "source": [
        "Now you can create predictions for the data. You will need two types of predictions: labels and scores."
      ]
    },
    {
      "cell_type": "code",
      "metadata": {
        "id": "9V4GgSy4BmfL",
        "colab_type": "code",
        "colab": {}
      },
      "source": [
        "y_val_predicted_labels_mybag = classifier_mybag.predict(X_val_mybag)\n",
        "y_val_predicted_scores_mybag = classifier_mybag.decision_function(X_val_mybag)\n",
        "\n",
        "y_val_predicted_labels_tfidf = classifier_tfidf.predict(X_val_tfidf)\n",
        "y_val_predicted_scores_tfidf = classifier_tfidf.decision_function(X_val_tfidf)"
      ],
      "execution_count": 70,
      "outputs": []
    },
    {
      "cell_type": "code",
      "metadata": {
        "id": "knKFGPcKZlNK",
        "colab_type": "code",
        "colab": {
          "base_uri": "https://localhost:8080/",
          "height": 101
        },
        "outputId": "ca636433-5ca4-457b-8ffb-b96608e671e3"
      },
      "source": [
        "y_val_predicted_labels_tfidf[2]"
      ],
      "execution_count": 36,
      "outputs": [
        {
          "output_type": "execute_result",
          "data": {
            "text/plain": [
              "array([0, 0, 0, 0, 0, 0, 0, 0, 0, 0, 0, 0, 0, 0, 0, 0, 0, 0, 0, 0, 0, 0,\n",
              "       0, 0, 0, 0, 0, 0, 0, 0, 0, 0, 0, 0, 0, 0, 0, 0, 0, 0, 1, 0, 0, 0,\n",
              "       0, 0, 0, 0, 0, 0, 0, 0, 0, 0, 0, 0, 0, 0, 0, 0, 0, 0, 0, 0, 0, 0,\n",
              "       0, 0, 0, 0, 1, 0, 0, 0, 0, 0, 0, 0, 0, 0, 0, 0, 0, 0, 0, 0, 0, 0,\n",
              "       0, 0, 0, 0, 0, 0, 0, 0, 0, 0, 0, 0])"
            ]
          },
          "metadata": {
            "tags": []
          },
          "execution_count": 36
        }
      ]
    },
    {
      "cell_type": "markdown",
      "metadata": {
        "id": "9eVojHgqBmfO",
        "colab_type": "text"
      },
      "source": [
        "Now take a look at how classifier, which uses TF-IDF, works for a few examples:"
      ]
    },
    {
      "cell_type": "code",
      "metadata": {
        "id": "U_fmioCVBmfP",
        "colab_type": "code",
        "colab": {
          "base_uri": "https://localhost:8080/",
          "height": 437
        },
        "outputId": "ef46b84b-3c71-47c0-fd11-a7042945b263"
      },
      "source": [
        "y_val_pred_inversed = mlb.inverse_transform(y_val_predicted_labels_tfidf)\n",
        "y_val_inversed = mlb.inverse_transform(y_val)\n",
        "for i in range(5):\n",
        "    print('Title:\\t{}\\nTrue labels:\\t{}\\nPredicted labels:\\t{}\\n\\n'.format(\n",
        "        X_val[i],\n",
        "        ','.join(y_val_inversed[i]),\n",
        "        ','.join(y_val_pred_inversed[i])\n",
        "    ))"
      ],
      "execution_count": 37,
      "outputs": [
        {
          "output_type": "stream",
          "text": [
            "Title:\todbc_exec always fail\n",
            "True labels:\tphp,sql\n",
            "Predicted labels:\t\n",
            "\n",
            "\n",
            "Title:\taccess base classes variable within child class\n",
            "True labels:\tjavascript\n",
            "Predicted labels:\t\n",
            "\n",
            "\n",
            "Title:\tcontenttype application json required rails\n",
            "True labels:\truby,ruby-on-rails\n",
            "Predicted labels:\tjson,ruby-on-rails\n",
            "\n",
            "\n",
            "Title:\tsessions sinatra used pass variable\n",
            "True labels:\truby,session\n",
            "Predicted labels:\t\n",
            "\n",
            "\n",
            "Title:\tgetting error type json exist postgresql rake db migrate\n",
            "True labels:\tjson,ruby,ruby-on-rails\n",
            "Predicted labels:\truby-on-rails\n",
            "\n",
            "\n"
          ],
          "name": "stdout"
        }
      ]
    },
    {
      "cell_type": "markdown",
      "metadata": {
        "id": "zly2hF2bBmfR",
        "colab_type": "text"
      },
      "source": [
        "Now, we would need to compare the results of different predictions, e.g. to see whether TF-IDF transformation helps or to try different regularization techniques in logistic regression. For all these experiments, we need to setup evaluation procedure. "
      ]
    },
    {
      "cell_type": "markdown",
      "metadata": {
        "id": "v59SfLpqBmfS",
        "colab_type": "text"
      },
      "source": [
        "### Evaluation\n",
        "\n",
        "To evaluate the results we will use several classification metrics:\n",
        " - [Accuracy](http://scikit-learn.org/stable/modules/generated/sklearn.metrics.accuracy_score.html)\n",
        " - [F1-score](http://scikit-learn.org/stable/modules/generated/sklearn.metrics.f1_score.html)\n",
        " - [Area under ROC-curve](http://scikit-learn.org/stable/modules/generated/sklearn.metrics.roc_auc_score.html)\n",
        " - [Area under precision-recall curve](http://scikit-learn.org/stable/modules/generated/sklearn.metrics.average_precision_score.html#sklearn.metrics.average_precision_score) \n",
        " \n",
        "Make sure you are familiar with all of them. How would you expect the things work for the multi-label scenario? Read about micro/macro/weighted averaging following the sklearn links provided above."
      ]
    },
    {
      "cell_type": "code",
      "metadata": {
        "id": "DYm_nntTBmfS",
        "colab_type": "code",
        "colab": {}
      },
      "source": [
        "from sklearn.metrics import accuracy_score\n",
        "from sklearn.metrics import f1_score\n",
        "from sklearn.metrics import roc_auc_score \n",
        "from sklearn.metrics import average_precision_score\n",
        "from sklearn.metrics import recall_score"
      ],
      "execution_count": 38,
      "outputs": []
    },
    {
      "cell_type": "markdown",
      "metadata": {
        "id": "izGAHgnbBmfV",
        "colab_type": "text"
      },
      "source": [
        "Implement the function *print_evaluation_scores* which calculates and prints to stdout:\n",
        " - *accuracy*\n",
        " - *F1-score macro/micro/weighted*\n",
        " - *Precision macro/micro/weighted*"
      ]
    },
    {
      "cell_type": "code",
      "metadata": {
        "id": "dJo6aE8HBmfV",
        "colab_type": "code",
        "colab": {}
      },
      "source": [
        "def print_evaluation_scores(y_val, predicted):\n",
        "    \n",
        "    ######################################\n",
        "    ######### YOUR CODE HERE #############\n",
        "    ######################################\n",
        "    print(accuracy_score(y_val,predicted))\n",
        "    print(f1_score(y_val,predicted,average='weighted'))\n",
        "    print(average_precision_score(y_val,predicted,average= 'weighted'))"
      ],
      "execution_count": 39,
      "outputs": []
    },
    {
      "cell_type": "code",
      "metadata": {
        "id": "tRFz3F6EBmfY",
        "colab_type": "code",
        "colab": {
          "base_uri": "https://localhost:8080/",
          "height": 151
        },
        "outputId": "3460fb5f-ea28-4664-fdb1-271c7020c582"
      },
      "source": [
        "print('Bag-of-words')\n",
        "print_evaluation_scores(y_val, y_val_predicted_labels_mybag)\n",
        "print('Tfidf')\n",
        "print_evaluation_scores(y_val, y_val_predicted_labels_tfidf)"
      ],
      "execution_count": 40,
      "outputs": [
        {
          "output_type": "stream",
          "text": [
            "Bag-of-words\n",
            "0.3614\n",
            "0.6517215878527387\n",
            "0.5139947248983571\n",
            "Tfidf\n",
            "0.3339666666666667\n",
            "0.6142779744593699\n",
            "0.48504553975295656\n"
          ],
          "name": "stdout"
        }
      ]
    },
    {
      "cell_type": "markdown",
      "metadata": {
        "id": "9d7QPJ_fBmfa",
        "colab_type": "text"
      },
      "source": [
        "You might also want to plot some generalization of the [ROC curve](http://scikit-learn.org/stable/modules/model_evaluation.html#receiver-operating-characteristic-roc) for the case of multi-label classification. Provided function *roc_auc* can make it for you. The input parameters of this function are:\n",
        " - true labels\n",
        " - decision functions scores\n",
        " - number of classes"
      ]
    },
    {
      "cell_type": "code",
      "metadata": {
        "id": "GJuernQaBmfa",
        "colab_type": "code",
        "colab": {}
      },
      "source": [
        "from metrics import roc_auc\n",
        "%matplotlib inline"
      ],
      "execution_count": 42,
      "outputs": []
    },
    {
      "cell_type": "code",
      "metadata": {
        "id": "f79gICncBmfc",
        "colab_type": "code",
        "colab": {
          "base_uri": "https://localhost:8080/",
          "height": 295
        },
        "outputId": "b922c56c-81bb-4ada-da9f-b904393475c0"
      },
      "source": [
        "n_classes = len(tags_counts)\n",
        "roc_auc(y_val, y_val_predicted_scores_mybag, n_classes)"
      ],
      "execution_count": 43,
      "outputs": [
        {
          "output_type": "display_data",
          "data": {
            "image/png": "[encoded data removed]",
            "text/plain": [
              "<Figure size 432x288 with 1 Axes>"
            ]
          },
          "metadata": {
            "tags": [],
            "needs_background": "light"
          }
        }
      ]
    },
    {
      "cell_type": "code",
      "metadata": {
        "id": "YIyP1x_4Bmfe",
        "colab_type": "code",
        "colab": {
          "base_uri": "https://localhost:8080/",
          "height": 295
        },
        "outputId": "ba601f32-7c02-4569-d78a-64d1c3de9e56"
      },
      "source": [
        "n_classes = len(tags_counts)\n",
        "roc_auc(y_val, y_val_predicted_scores_tfidf, n_classes)"
      ],
      "execution_count": 44,
      "outputs": [
        {
          "output_type": "display_data",
          "data": {
            "image/png": "[encoded data removed]",
            "text/plain": [
              "<Figure size 432x288 with 1 Axes>"
            ]
          },
          "metadata": {
            "tags": [],
            "needs_background": "light"
          }
        }
      ]
    },
    {
      "cell_type": "markdown",
      "metadata": {
        "id": "csDQfqOCBmfg",
        "colab_type": "text"
      },
      "source": [
        "**Task 4 (MultilabelClassification).** Once we have the evaluation set up, we suggest that you experiment a bit with training your classifiers. We will use *F1-score weighted* as an evaluation metric. Our recommendation:\n",
        "- compare the quality of the bag-of-words and TF-IDF approaches and chose one of them.\n",
        "- for the chosen one, try *L1* and *L2*-regularization techniques in Logistic Regression with different coefficients (e.g. C equal to 0.1, 1, 10, 100).\n",
        "\n",
        "You also could try other improvements of the preprocessing / model, if you want. "
      ]
    },
    {
      "cell_type": "code",
      "metadata": {
        "id": "_4LWTbbmBmfh",
        "colab_type": "code",
        "colab": {
          "base_uri": "https://localhost:8080/",
          "height": 118
        },
        "outputId": "5e76d953-81ca-4076-acae-f173363c7ccc"
      },
      "source": [
        "######################################\n",
        "######### YOUR CODE HERE #############\n",
        "######################################\n",
        "from sklearn.model_selection import GridSearchCV\n",
        "parameters = {\"estimator__C\": [0.3, 1, 3, 10], \n",
        "              \"estimator__penalty\":['l1','l2']}\n",
        "\n",
        "clf = OneVsRestClassifier(LogisticRegression(penalty=\"l2\",C=1,solver='liblinear',max_iter=100000))\n",
        "\n",
        "grid_search = GridSearchCV(clf, param_grid=parameters, cv=5, scoring='f1_weighted')\n",
        "grid_search.fit(X=X_train_tfidf, y=y_train)\n",
        "\n",
        "print(\"Best parameters: \", grid_search.best_params_)\n",
        "print(\"Best cross-validation score: \", grid_search.best_score_)"
      ],
      "execution_count": 41,
      "outputs": [
        {
          "output_type": "stream",
          "text": [
            "/usr/local/lib/python3.6/dist-packages/sklearn/svm/_base.py:947: ConvergenceWarning: Liblinear failed to converge, increase the number of iterations.\n",
            "  \"the number of iterations.\", ConvergenceWarning)\n",
            "/usr/local/lib/python3.6/dist-packages/sklearn/svm/_base.py:947: ConvergenceWarning: Liblinear failed to converge, increase the number of iterations.\n",
            "  \"the number of iterations.\", ConvergenceWarning)\n"
          ],
          "name": "stderr"
        },
        {
          "output_type": "stream",
          "text": [
            "Best parameters:  {'estimator__C': 3, 'estimator__penalty': 'l1'}\n",
            "Best cross-validation score:  0.6573060985685444\n"
          ],
          "name": "stdout"
        }
      ]
    },
    {
      "cell_type": "code",
      "metadata": {
        "id": "PhlfRVEbvd-4",
        "colab_type": "code",
        "colab": {
          "base_uri": "https://localhost:8080/",
          "height": 67
        },
        "outputId": "1b548380-acb0-4ae0-95b0-6f46e5f2ab18"
      },
      "source": [
        "y_val_predicted_labels_tfidf = grid_search.predict(X_val_tfidf)\n",
        "y_val_predicted_scores_tfidf = grid_search.decision_function(X_val_tfidf)\n",
        "print_evaluation_scores(y_val, y_val_predicted_labels_tfidf)"
      ],
      "execution_count": 45,
      "outputs": [
        {
          "output_type": "stream",
          "text": [
            "0.3681\n",
            "0.6632894517575096\n",
            "0.5198463441448674\n"
          ],
          "name": "stdout"
        }
      ]
    },
    {
      "cell_type": "markdown",
      "metadata": {
        "id": "K2XJLghpBmfl",
        "colab_type": "text"
      },
      "source": [
        "When you are happy with the quality, create predictions for *test* set, which you will submit to Coursera."
      ]
    },
    {
      "cell_type": "code",
      "metadata": {
        "id": "P5DQmPkDBmfm",
        "colab_type": "code",
        "colab": {
          "base_uri": "https://localhost:8080/",
          "height": 151
        },
        "outputId": "87474ed7-d320-4a57-cfbf-ec5d81b48485"
      },
      "source": [
        "test_predictions = grid_search.predict(X_test_tfidf)\n",
        "test_pred_inversed = mlb.inverse_transform(test_predictions)\n",
        "\n",
        "test_predictions_for_submission = '\\n'.join('%i\\t%s' % (i, ','.join(row)) for i, row in enumerate(test_pred_inversed))\n",
        "grader.submit_tag('MultilabelClassification', test_predictions_for_submission)"
      ],
      "execution_count": 46,
      "outputs": [
        {
          "output_type": "stream",
          "text": [
            "Current answer for task MultilabelClassification is:\n",
            " 0\tmysql,php\n",
            "1\thtml,javascript,jquery\n",
            "2\t\n",
            "3\tjavascript,jquery\n",
            "4\tandroid,java\n",
            "5\tparsing,php,xml\n",
            "6\tjson,...\n"
          ],
          "name": "stdout"
        }
      ]
    },
    {
      "cell_type": "code",
      "metadata": {
        "id": "zgucT5Ex1Uig",
        "colab_type": "code",
        "colab": {
          "base_uri": "https://localhost:8080/",
          "height": 1000
        },
        "outputId": "a1ee5af7-be72-44e3-cef9-8a8a0cb58c44"
      },
      "source": [
        "mlb.classes"
      ],
      "execution_count": 93,
      "outputs": [
        {
          "output_type": "execute_result",
          "data": {
            "text/plain": [
              "['.net',\n",
              " 'ajax',\n",
              " 'algorithm',\n",
              " 'android',\n",
              " 'angularjs',\n",
              " 'apache',\n",
              " 'arrays',\n",
              " 'asp.net',\n",
              " 'asp.net-mvc',\n",
              " 'c',\n",
              " 'c#',\n",
              " 'c++',\n",
              " 'class',\n",
              " 'cocoa-touch',\n",
              " 'codeigniter',\n",
              " 'css',\n",
              " 'csv',\n",
              " 'database',\n",
              " 'date',\n",
              " 'datetime',\n",
              " 'django',\n",
              " 'dom',\n",
              " 'eclipse',\n",
              " 'entity-framework',\n",
              " 'excel',\n",
              " 'facebook',\n",
              " 'file',\n",
              " 'forms',\n",
              " 'function',\n",
              " 'generics',\n",
              " 'google-maps',\n",
              " 'hibernate',\n",
              " 'html',\n",
              " 'html5',\n",
              " 'image',\n",
              " 'ios',\n",
              " 'iphone',\n",
              " 'java',\n",
              " 'javascript',\n",
              " 'jquery',\n",
              " 'json',\n",
              " 'jsp',\n",
              " 'laravel',\n",
              " 'linq',\n",
              " 'linux',\n",
              " 'list',\n",
              " 'loops',\n",
              " 'maven',\n",
              " 'mongodb',\n",
              " 'multithreading',\n",
              " 'mysql',\n",
              " 'node.js',\n",
              " 'numpy',\n",
              " 'objective-c',\n",
              " 'oop',\n",
              " 'opencv',\n",
              " 'osx',\n",
              " 'pandas',\n",
              " 'parsing',\n",
              " 'performance',\n",
              " 'php',\n",
              " 'pointers',\n",
              " 'python',\n",
              " 'python-2.7',\n",
              " 'python-3.x',\n",
              " 'qt',\n",
              " 'r',\n",
              " 'regex',\n",
              " 'rest',\n",
              " 'ruby',\n",
              " 'ruby-on-rails',\n",
              " 'ruby-on-rails-3',\n",
              " 'selenium',\n",
              " 'servlets',\n",
              " 'session',\n",
              " 'sockets',\n",
              " 'sorting',\n",
              " 'spring',\n",
              " 'spring-mvc',\n",
              " 'sql',\n",
              " 'sql-server',\n",
              " 'string',\n",
              " 'swift',\n",
              " 'swing',\n",
              " 'twitter-bootstrap',\n",
              " 'uitableview',\n",
              " 'unit-testing',\n",
              " 'validation',\n",
              " 'vb.net',\n",
              " 'visual-studio',\n",
              " 'visual-studio-2010',\n",
              " 'wcf',\n",
              " 'web-services',\n",
              " 'windows',\n",
              " 'winforms',\n",
              " 'wordpress',\n",
              " 'wpf',\n",
              " 'xaml',\n",
              " 'xcode',\n",
              " 'xml']"
            ]
          },
          "metadata": {
            "tags": []
          },
          "execution_count": 93
        }
      ]
    },
    {
      "cell_type": "code",
      "metadata": {
        "id": "QWKjQf6d5I1Q",
        "colab_type": "code",
        "colab": {
          "base_uri": "https://localhost:8080/",
          "height": 34
        },
        "outputId": "77901494-f8e6-4577-c86a-c50801035f04"
      },
      "source": [
        "tfidf_vocab['c']"
      ],
      "execution_count": 90,
      "outputs": [
        {
          "output_type": "execute_result",
          "data": {
            "text/plain": [
              "1853"
            ]
          },
          "metadata": {
            "tags": []
          },
          "execution_count": 90
        }
      ]
    },
    {
      "cell_type": "markdown",
      "metadata": {
        "id": "dQT2olvVBmfo",
        "colab_type": "text"
      },
      "source": [
        "### Analysis of the most important features"
      ]
    },
    {
      "cell_type": "markdown",
      "metadata": {
        "id": "tncXIw3HBmfp",
        "colab_type": "text"
      },
      "source": [
        "Finally, it is usually a good idea to look at the features (words or n-grams) that are used with the largest weigths in your logistic regression model."
      ]
    },
    {
      "cell_type": "markdown",
      "metadata": {
        "id": "76PuDN8QBmfp",
        "colab_type": "text"
      },
      "source": [
        "Implement the function *print_words_for_tag* to find them. Get back to sklearn documentation on [OneVsRestClassifier](http://scikit-learn.org/stable/modules/generated/sklearn.multiclass.OneVsRestClassifier.html) and [LogisticRegression](http://scikit-learn.org/stable/modules/generated/sklearn.linear_model.LogisticRegression.html) if needed."
      ]
    },
    {
      "cell_type": "code",
      "metadata": {
        "id": "5VCrqFOsBmfq",
        "colab_type": "code",
        "colab": {}
      },
      "source": [
        "def print_words_for_tag(classifier, tag, tags_classes, index_to_words, all_words):\n",
        "    \"\"\"\n",
        "        classifier: trained classifier\n",
        "        tag: particular tag\n",
        "        tags_classes: a list of classes names from MultiLabelBinarizer\n",
        "        index_to_words: index_to_words transformation\n",
        "        all_words: all words in the dictionary\n",
        "        \n",
        "        return nothing, just print top 5 positive and top 5 negative words for current tag\n",
        "    \"\"\"\n",
        "    print('Tag:\\t{}'.format(tag))\n",
        "    \n",
        "    # Extract an estimator from the classifier for the given tag.\n",
        "    # Extract feature coefficients from the estimator. \n",
        "    \n",
        "    ######################################\n",
        "    ######### YOUR CODE HERE #############\n",
        "    ######################################\n",
        "    idx = tags_classes.index(tag)\n",
        "    coef = classifier.coef_[idx]\n",
        "    coef_dict = {index_to_words[i]:c for i,c in enumerate(coef)}\n",
        "    sorted_coef_list = sorted(coef_dict.items(), key=lambda x: x[1], reverse=True)\n",
        "\n",
        "\n",
        "    \n",
        "    top_positive_words = [pword for pword,_ in sorted_coef_list[:5]] # top-5 words sorted by the coefficiens.\n",
        "    top_negative_words = [nword for nword,_ in sorted_coef_list[-5:]] # bottom-5 words  sorted by the coefficients.\n",
        "    print('Top positive words:\\t{}'.format(', '.join(top_positive_words)))\n",
        "    print('Top negative words:\\t{}\\n'.format(', '.join(top_negative_words)))"
      ],
      "execution_count": 96,
      "outputs": []
    },
    {
      "cell_type": "code",
      "metadata": {
        "id": "u1GfQ-dCBmft",
        "colab_type": "code",
        "colab": {
          "base_uri": "https://localhost:8080/",
          "height": 218
        },
        "outputId": "721e47c3-8d9a-418b-fa97-621a625ef0fa"
      },
      "source": [
        "print_words_for_tag(classifier_tfidf, 'c', mlb.classes, tfidf_reversed_vocab, ALL_WORDS)\n",
        "print_words_for_tag(classifier_tfidf, 'c++', mlb.classes, tfidf_reversed_vocab, ALL_WORDS)\n",
        "print_words_for_tag(classifier_tfidf, 'linux', mlb.classes, tfidf_reversed_vocab, ALL_WORDS)"
      ],
      "execution_count": 97,
      "outputs": [
        {
          "output_type": "stream",
          "text": [
            "Tag:\tc\n",
            "Top positive words:\tc, malloc, scanf, fscanf, c++ java\n",
            "Top negative words:\tpython, java, javascript, begin, php\n",
            "\n",
            "Tag:\tc++\n",
            "Top positive words:\tc++, qt, stdstring, boost, stl\n",
            "Top negative words:\tjquery, javascript, c++ stl, java, php\n",
            "\n",
            "Tag:\tlinux\n",
            "Top positive words:\tlinux, kernel space, system call, resource temporarily, dlopen\n",
            "Top negative words:\tc#, javascript, codeigniter, nokogiri, aspnet\n",
            "\n"
          ],
          "name": "stdout"
        }
      ]
    },
    {
      "cell_type": "markdown",
      "metadata": {
        "id": "fM14PBYfBmfu",
        "colab_type": "text"
      },
      "source": [
        "### Authorization & Submission\n",
        "To submit assignment parts to Cousera platform, please, enter your e-mail and token into variables below. You can generate token on this programming assignment page. <b>Note:</b> Token expires 30 minutes after generation."
      ]
    },
    {
      "cell_type": "code",
      "metadata": {
        "id": "LTU31X7iBmfv",
        "colab_type": "code",
        "colab": {
          "base_uri": "https://localhost:8080/",
          "height": 336
        },
        "outputId": "96a75c0e-1cf8-4fef-cb52-f506964d8167"
      },
      "source": [
        "grader.status()"
      ],
      "execution_count": 98,
      "outputs": [
        {
          "output_type": "stream",
          "text": [
            "You want to submit these parts:\n",
            "Task TextPrepare:\n",
            " sqlite php readonly\n",
            "creating multiple textboxes dynamically\n",
            "self one prefer javascript\n",
            "save php date...\n",
            "Task WordsTagsCount:\n",
            " javascript,c#,java\n",
            "using,php,java...\n",
            "Task BagOfWords:\n",
            " 7...\n",
            "Task MultilabelClassification:\n",
            " 0\tmysql,php\n",
            "1\thtml,javascript,jquery\n",
            "2\t\n",
            "3\tjavascript,jquery\n",
            "4\tandroid,java\n",
            "5\tparsing,php,xml\n",
            "6\tjson,...\n"
          ],
          "name": "stdout"
        }
      ]
    },
    {
      "cell_type": "code",
      "metadata": {
        "id": "B4E4EIiPBmfw",
        "colab_type": "code",
        "colab": {
          "base_uri": "https://localhost:8080/",
          "height": 336
        },
        "outputId": "eda61f51-4b96-47bc-8729-e339cb8f5a30"
      },
      "source": [
        "STUDENT_EMAIL = 'sayanbiswas07@gmail.com' # EMAIL \n",
        "STUDENT_TOKEN = 'fM6gMzTn5dWdYwI2' # TOKEN \n",
        "grader.status()"
      ],
      "execution_count": 100,
      "outputs": [
        {
          "output_type": "stream",
          "text": [
            "You want to submit these parts:\n",
            "Task TextPrepare:\n",
            " sqlite php readonly\n",
            "creating multiple textboxes dynamically\n",
            "self one prefer javascript\n",
            "save php date...\n",
            "Task WordsTagsCount:\n",
            " javascript,c#,java\n",
            "using,php,java...\n",
            "Task BagOfWords:\n",
            " 7...\n",
            "Task MultilabelClassification:\n",
            " 0\tmysql,php\n",
            "1\thtml,javascript,jquery\n",
            "2\t\n",
            "3\tjavascript,jquery\n",
            "4\tandroid,java\n",
            "5\tparsing,php,xml\n",
            "6\tjson,...\n"
          ],
          "name": "stdout"
        }
      ]
    },
    {
      "cell_type": "markdown",
      "metadata": {
        "id": "HEjKdkCDBmf3",
        "colab_type": "text"
      },
      "source": [
        "If you want to submit these answers, run cell below"
      ]
    },
    {
      "cell_type": "code",
      "metadata": {
        "id": "ye5iQPEoBmf3",
        "colab_type": "code",
        "colab": {
          "base_uri": "https://localhost:8080/",
          "height": 34
        },
        "outputId": "99c93ce5-c39e-423e-9822-666ea5a24fd9"
      },
      "source": [
        "grader.submit(STUDENT_EMAIL, STUDENT_TOKEN)"
      ],
      "execution_count": 101,
      "outputs": [
        {
          "output_type": "stream",
          "text": [
            "Submitted to Coursera platform. See results on assignment page!\n"
          ],
          "name": "stdout"
        }
      ]
    },
    {
      "cell_type": "code",
      "metadata": {
        "id": "kVHvF1O98M2N",
        "colab_type": "code",
        "colab": {}
      },
      "source": [
        ""
      ],
      "execution_count": null,
      "outputs": []
    }
  ]
}